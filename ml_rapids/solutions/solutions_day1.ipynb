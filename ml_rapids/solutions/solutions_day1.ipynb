{
 "cells": [
  {
   "cell_type": "code",
   "execution_count": 1,
   "metadata": {},
   "outputs": [],
   "source": [
    "%load_ext autoreload\n",
    "%autoreload 2"
   ]
  },
  {
   "cell_type": "code",
   "execution_count": 2,
   "metadata": {},
   "outputs": [],
   "source": [
    "import numpy as np\n",
    "from matplotlib import pyplot as plt"
   ]
  },
  {
   "cell_type": "markdown",
   "metadata": {},
   "source": [
    "## Exercise 1. Regression: order-$k$ polynomials\n",
    "\n",
    "1. Convince yourself, that the least squares solution is $\\hat w = (\\Phi^T \\Phi)^{-1} \\Phi^Ty$.\n",
    "2. What condition does the data matrix have to fulfill in order for the solution to exist?\n",
    "3. Find the solution for $k=0$\n",
    "4. Adding l2-regularizer, convince yourself that $\\hat w = (\\Phi^T \\Phi + \\lambda I)^{-1} \\Phi^Ty$."
   ]
  },
  {
   "cell_type": "markdown",
   "metadata": {},
   "source": [
    "### Solution 1\n",
    "\n",
    "1. Convince yourself, that the least squares solution is $\\hat w = (\\Phi^T \\Phi)^{-1} \\Phi^Ty$.\n",
    "\n",
    "We optimize the following convex objective:\n",
    "\n",
    "$\\hat w = \\arg \\min_{w} \\frac{1}{2} \\Vert y - \\Phi w \\Vert^2$\n",
    "\n",
    "It's equivalent to minimize the following, where we dropped terms not depending on w:\n",
    "\n",
    "$\\frac{1}{2} w^T \\Phi^T \\Phi w - w^T \\Phi^T y$\n",
    "\n",
    "Taking $\\nabla_w$ and setting to 0:\n",
    "\n",
    "$\\Phi^T\\Phi w = \\Phi^Ty$\n",
    "\n",
    "2. What condition does the data matrix have to fulfill in order for the solution to exist?\n",
    "\n",
    "The system matrix $\\Phi^T \\Phi$ must have full rank. So the number of samples should be at least $k+1$.\n",
    "\n",
    "3. Find the solution for $k=0$\n",
    "\n",
    "If $k=0$, $\\Phi$ is the constant $1$ vector. $\\Phi^T\\Phi = N$ and $\\Phi^T y = \\sum_i y_i$. Hence, $\\hat w = \\frac{1}{N} \\sum_i y_i$, the average of the labels.\n",
    "\n",
    "4. Adding l2-regularizer, convince yourself that $\\hat w = (\\Phi^T \\Phi + \\lambda I)^{-1} \\Phi^Ty$.\n",
    "\n",
    "Similar to 1., we add the regularizer and expand\n",
    "\n",
    "$\\hat w = \\arg \\min_{w} \\frac{1}{2} \\Vert y - \\Phi w \\Vert^2 + \\frac{1}{2} \\lambda \\Vert w \\Vert^2$\n",
    "\n",
    "to\n",
    "\n",
    "$\\frac{1}{2} w^T \\Phi^T \\Phi w - w^T \\Phi^T y + \\frac{1}{2} \\lambda w^T w$"
   ]
  },
  {
   "cell_type": "markdown",
   "metadata": {},
   "source": [
    "## Exercise 2. Generalization Error and Regularization\n",
    "\n",
    "Consider the input space $\\mathcal{X} = [-1,1]$ and $\\mathcal{Y} = \\mathbb{R}$, and the following ground-truth function:\n",
    "\n",
    "$y = f(x) = 0.1 x^3 - 0.025 x^2 + 0.01 x + 0.2$\n",
    "\n",
    "1. Draw a random training set of size 25, using the following rule:\n",
    "\n",
    "$y = f(x) + \\epsilon, x \\sim \\text{Uniform}([-1,1]), \\epsilon \\sim \\mathcal{N}(0, 10^{-4})$\n",
    "\n",
    "2. Draw a test set of size 100 using the ground-truth function above.\n",
    "3. Fit an order $k$ polynomial and plot train and test error vs $k$ for $k = {0, \\ldots, 15}$. Use the mean squared error $l(y, \\hat y) = \\frac{1}{N} \\sum_i (y_i - \\hat y_i)^2$ to compute train and test errors\n",
    "4. For different $k=0,3,15$, draw training sets of growing size: $N=25,250,2500$. Plot test error vs the number of training points.\n",
    "5. Repeat 4, but fix $k=15$, and plot train and test error vs $\\lambda={0, 0.1, 1000}$, the regularization strenght of the l2 penalty"
   ]
  },
  {
   "cell_type": "markdown",
   "metadata": {},
   "source": [
    "### Solution 2"
   ]
  },
  {
   "cell_type": "code",
   "execution_count": 1,
   "metadata": {},
   "outputs": [],
   "source": [
    "from mlcourse import *\n",
    "import numpy as np\n",
    "from matplotlib import pyplot as plt"
   ]
  },
  {
   "cell_type": "code",
   "execution_count": 2,
   "metadata": {},
   "outputs": [
    {
     "data": {
      "text/plain": [
       "[<matplotlib.lines.Line2D at 0x7f5374c86a30>]"
      ]
     },
     "execution_count": 2,
     "metadata": {},
     "output_type": "execute_result"
    },
    {
     "data": {
      "image/png": "[encoded data removed]",
      "text/plain": [
       "<Figure size 432x288 with 1 Axes>"
      ]
     },
     "metadata": {
      "needs_background": "light"
     },
     "output_type": "display_data"
    }
   ],
   "source": [
    "np.random.seed(12345)\n",
    "N = 100\n",
    "x_test = np.linspace(-1,1,N)\n",
    "y_test = f_true(x_test)\n",
    "plt.plot(x_test,y_test,'.')\n",
    "\n",
    "x_train = np.sort(np.random.rand(25) * 2 - 1)\n",
    "y_train = f_true(x_train) + np.random.randn(25) * 0.01\n",
    "plt.plot(x_train, y_train, 'x')"
   ]
  },
  {
   "cell_type": "code",
   "execution_count": 3,
   "metadata": {},
   "outputs": [
    {
     "data": {
      "text/plain": [
       "<matplotlib.legend.Legend at 0x7f5374c05dc0>"
      ]
     },
     "execution_count": 3,
     "metadata": {},
     "output_type": "execute_result"
    },
    {
     "data": {
      "image/png": "[encoded data removed]",
      "text/plain": [
       "<Figure size 432x288 with 1 Axes>"
      ]
     },
     "metadata": {
      "needs_background": "light"
     },
     "output_type": "display_data"
    }
   ],
   "source": [
    "np.random.seed(12345)\n",
    "ks = np.arange(15)\n",
    "trials = 10 \n",
    "train_errs = []\n",
    "test_errs = []\n",
    "for k in ks:\n",
    "    train_err_trials = np.zeros(trials)\n",
    "    test_err_trials = np.zeros(trials)\n",
    "    for it in range(trials):\n",
    "        \n",
    "        x_train = np.random.rand(25) * 2 - 1\n",
    "        y_train = f_true(x_train) + np.random.randn(25) * 0.01\n",
    "        what = fit(x_train, y_train, k)\n",
    "        yhat_train = predict(x_train, what)\n",
    "        yhat_test = predict(x_test, what)\n",
    "        train_err = mse(y_train, yhat_train)\n",
    "        test_err = mse(y_test, yhat_test)\n",
    "        train_err_trials[it] = train_err\n",
    "        test_err_trials[it] = test_err\n",
    "    train_errs.append(np.mean(train_err_trials))\n",
    "    test_errs.append(np.mean(test_err_trials))\n",
    "plt.semilogy(ks, train_errs, label='train error')\n",
    "plt.semilogy(ks, test_errs, label='test error')\n",
    "plt.legend()"
   ]
  },
  {
   "cell_type": "code",
   "execution_count": 4,
   "metadata": {},
   "outputs": [
    {
     "data": {
      "image/png": "[encoded data removed]",
      "text/plain": [
       "<Figure size 432x288 with 1 Axes>"
      ]
     },
     "metadata": {
      "needs_background": "light"
     },
     "output_type": "display_data"
    }
   ],
   "source": [
    "np.random.seed(12345)\n",
    "ks = (0, 3, 15)\n",
    "Ns = (25, 250,2500)\n",
    "trials = 10\n",
    "errors = np.zeros((len(Ns), len(ks), trials))\n",
    "\n",
    "for it, k in enumerate(ks):\n",
    "    for jt, N in enumerate(Ns):\n",
    "        for kt in range(trials):\n",
    "            x_train = np.random.rand(N) * 2 - 1\n",
    "            y_train = f_true(x_train) + np.random.randn(N) * 0.01\n",
    "            what = fit(x_train, y_train, k)\n",
    "            yhat_test = predict(x_test, what)\n",
    "            test_err = (mse(y_test, yhat_test))\n",
    "            errors[jt, it, kt] = test_err\n",
    "            \n",
    "plt.figure()\n",
    "for it, k in enumerate(ks):\n",
    "    mu = np.mean(errors, 2)\n",
    "    plt.semilogy(mu[:, it], label='k={}'.format(k))\n",
    "plt.legend()\n",
    "plt.title(\"Mean prediction error\");\n",
    " "
   ]
  },
  {
   "cell_type": "code",
   "execution_count": 5,
   "metadata": {},
   "outputs": [
    {
     "data": {
      "image/png": "[encoded data removed]",
      "text/plain": [
       "<Figure size 432x288 with 1 Axes>"
      ]
     },
     "metadata": {
      "needs_background": "light"
     },
     "output_type": "display_data"
    }
   ],
   "source": [
    "lambdas = [0, 0.1, 1000]\n",
    "k = 15\n",
    "Ns = (25, 250,2500)\n",
    "trials = 10\n",
    "errors = np.zeros((len(Ns), len(lambdas), trials))\n",
    "\n",
    "for it, lam in enumerate(lambdas):\n",
    "    for jt, N in enumerate(Ns):\n",
    "        for kt in range(trials):\n",
    "            x_train = np.random.rand(N) * 2 - 1\n",
    "            y_train = f_true(x_train) + np.random.randn(N) * 0.01\n",
    "            what = fit(x_train, y_train, k, lam)\n",
    "            yhat_test = predict(x_test, what)\n",
    "            test_err = (mse(y_test, yhat_test))\n",
    "            errors[jt, it, kt] = test_err\n",
    "            \n",
    "plt.figure()\n",
    "for it, l in enumerate(lambdas):\n",
    "    mu = np.mean(errors, 2)\n",
    "    plt.semilogy(mu[:, it], label='lambda={}'.format(l))\n",
    "plt.legend()\n",
    "plt.title(\"Mean prediction error\");"
   ]
  },
  {
   "cell_type": "markdown",
   "metadata": {},
   "source": [
    "## Exercise 3. GLMs, Logistic Regression\n",
    "\n",
    "1. Convince yourself, that, if we encode the binary outcome as $Y \\in {\\pm 1}$, the (conditional) log-likelihood under the logistic regression model simplifies to:\n",
    "\n",
    "$L(w) := \\log P(Y \\mid X, w) = \\sum_i \\log \\sigma(y_i \\Phi(x_i)^T w)$\n",
    "\n",
    "2. Convince yourself, that $\\sigma'(x) = \\sigma(x) (1 - \\sigma(x))$ for the logistic function. What is $\\nabla_w L(w)$?\n",
    "3. Fit a binary logistic regression model to the problem of distinguishing 4s vs 7s in the MNIST dataset.\n",
    "4. Plot some samples in the training set, where the model is very confident and some samples where the model is not very confident."
   ]
  },
  {
   "cell_type": "markdown",
   "metadata": {},
   "source": [
    "### Solution 3\n",
    "\n",
    "1. Convince yourself, that, if we encode the binary outcome as $Y \\in {\\pm 1}$, the (conditional) log-likelihood under the logistic regression model simplifies to:\n",
    "\n",
    "Let $z:= f_{\\theta}(x)$ and consider the individual likelihood terms:\n",
    "\n",
    "$p_i^{y_i} (1-p_i)^{1-y_i}$ where $p_i = \\sigma(z_i)$.\n",
    "The term equals $\\sigma(z) = \\frac{1}{1+e^{-z}}$ if $y=1$ \n",
    "and $1-\\sigma(z) = \\frac{1}{1+e^{z}}$ if $y=0$. \n",
    "Hence, if we encode $y=0$ as $y=-1$, the likelihood term can be expressed as $\\sigma(y z)$.\n",
    "\n",
    "2. Convince yourself, that $\\sigma'(x) = \\sigma(x) (1 - \\sigma(x))$ for the logistic function. What is $\\nabla_w L(w)$?\n",
    "\n",
    "$ \\sigma(x)' = -(1 + e^{-x})^{-2} (-e^{-x}) = \\sigma(x) \\frac{1 + e^{-x} - 1}{1+e^{-x}} = \\sigma(x) (1-\\sigma(x))$\n",
    "\n",
    "$\\nabla_w L(w) = \\sum_i \\frac{1}{\\sigma(y_i z_i)} \\sigma(y_i z_i) (1-\\sigma(y_i z_i)) y_i \\Phi(x_i) = \\sum_i  (1-\\sigma(y_i z_i)) y_i \\Phi(x_i)$\n",
    "\n",
    "Intuitively, the gradient tries to make the weights more similar to the $i$-th sample, if the confidence at that samples is low.\n"
   ]
  },
  {
   "cell_type": "code",
   "execution_count": 6,
   "metadata": {},
   "outputs": [
    {
     "ename": "TypeError",
     "evalue": "C function cuda.ccudart.cudaStreamSynchronize has wrong signature (expected __pyx_t_4cuda_7ccudart_cudaError_t (__pyx_t_4cuda_7ccudart_cudaStream_t), got cudaError_t (cudaStream_t))",
     "output_type": "error",
     "traceback": [
      "\u001b[0;31m---------------------------------------------------------------------------\u001b[0m",
      "\u001b[0;31mTypeError\u001b[0m                                 Traceback (most recent call last)",
      "Input \u001b[0;32mIn [6]\u001b[0m, in \u001b[0;36m<cell line: 2>\u001b[0;34m()\u001b[0m\n\u001b[1;32m      1\u001b[0m \u001b[38;5;28;01mimport\u001b[39;00m \u001b[38;5;21;01mnumpy\u001b[39;00m \u001b[38;5;28;01mas\u001b[39;00m \u001b[38;5;21;01mnp\u001b[39;00m\n\u001b[0;32m----> 2\u001b[0m \u001b[38;5;28;01mimport\u001b[39;00m \u001b[38;5;21;01mcuml\u001b[39;00m\n\u001b[1;32m      3\u001b[0m \u001b[38;5;28;01mfrom\u001b[39;00m \u001b[38;5;21;01mcuml\u001b[39;00m\u001b[38;5;21;01m.\u001b[39;00m\u001b[38;5;21;01mlinear_model\u001b[39;00m \u001b[38;5;28;01mimport\u001b[39;00m LogisticRegression\n\u001b[1;32m      4\u001b[0m \u001b[38;5;66;03m#from sklearn.linear_model import LogisticRegression as sklLogisticRegression\u001b[39;00m\n",
      "File \u001b[0;32m/opt/conda/lib/python3.8/site-packages/cuml/__init__.py:17\u001b[0m, in \u001b[0;36m<module>\u001b[0;34m\u001b[0m\n\u001b[1;32m      1\u001b[0m \u001b[38;5;66;03m#\u001b[39;00m\n\u001b[1;32m      2\u001b[0m \u001b[38;5;66;03m# Copyright (c) 2022, NVIDIA CORPORATION.\u001b[39;00m\n\u001b[1;32m      3\u001b[0m \u001b[38;5;66;03m#\u001b[39;00m\n\u001b[0;32m   (...)\u001b[0m\n\u001b[1;32m     14\u001b[0m \u001b[38;5;66;03m# limitations under the License.\u001b[39;00m\n\u001b[1;32m     15\u001b[0m \u001b[38;5;66;03m#\u001b[39;00m\n\u001b[0;32m---> 17\u001b[0m \u001b[38;5;28;01mfrom\u001b[39;00m \u001b[38;5;21;01mcuml\u001b[39;00m\u001b[38;5;21;01m.\u001b[39;00m\u001b[38;5;21;01mcommon\u001b[39;00m\u001b[38;5;21;01m.\u001b[39;00m\u001b[38;5;21;01mbase\u001b[39;00m \u001b[38;5;28;01mimport\u001b[39;00m Base\n\u001b[1;32m     18\u001b[0m \u001b[38;5;28;01mfrom\u001b[39;00m \u001b[38;5;21;01mcuml\u001b[39;00m\u001b[38;5;21;01m.\u001b[39;00m\u001b[38;5;21;01mcommon\u001b[39;00m\u001b[38;5;21;01m.\u001b[39;00m\u001b[38;5;21;01mhandle\u001b[39;00m \u001b[38;5;28;01mimport\u001b[39;00m Handle\n\u001b[1;32m     19\u001b[0m \u001b[38;5;28;01mimport\u001b[39;00m \u001b[38;5;21;01mcuml\u001b[39;00m\u001b[38;5;21;01m.\u001b[39;00m\u001b[38;5;21;01mcommon\u001b[39;00m\u001b[38;5;21;01m.\u001b[39;00m\u001b[38;5;21;01mcuda\u001b[39;00m \u001b[38;5;28;01mas\u001b[39;00m \u001b[38;5;21;01mcuda\u001b[39;00m\n",
      "File \u001b[0;32m/opt/conda/lib/python3.8/site-packages/cuml/common/__init__.py:17\u001b[0m, in \u001b[0;36m<module>\u001b[0;34m\u001b[0m\n\u001b[1;32m      1\u001b[0m \u001b[38;5;66;03m#\u001b[39;00m\n\u001b[1;32m      2\u001b[0m \u001b[38;5;66;03m# Copyright (c) 2019-2022, NVIDIA CORPORATION.\u001b[39;00m\n\u001b[1;32m      3\u001b[0m \u001b[38;5;66;03m#\u001b[39;00m\n\u001b[0;32m   (...)\u001b[0m\n\u001b[1;32m     14\u001b[0m \u001b[38;5;66;03m# limitations under the License.\u001b[39;00m\n\u001b[1;32m     15\u001b[0m \u001b[38;5;66;03m#\u001b[39;00m\n\u001b[0;32m---> 17\u001b[0m \u001b[38;5;28;01mfrom\u001b[39;00m \u001b[38;5;21;01mcuml\u001b[39;00m\u001b[38;5;21;01m.\u001b[39;00m\u001b[38;5;21;01mcommon\u001b[39;00m\u001b[38;5;21;01m.\u001b[39;00m\u001b[38;5;21;01marray\u001b[39;00m \u001b[38;5;28;01mimport\u001b[39;00m CumlArray\n\u001b[1;32m     18\u001b[0m \u001b[38;5;28;01mfrom\u001b[39;00m \u001b[38;5;21;01mcuml\u001b[39;00m\u001b[38;5;21;01m.\u001b[39;00m\u001b[38;5;21;01mcommon\u001b[39;00m\u001b[38;5;21;01m.\u001b[39;00m\u001b[38;5;21;01marray_sparse\u001b[39;00m \u001b[38;5;28;01mimport\u001b[39;00m SparseCumlArray\n\u001b[1;32m     20\u001b[0m \u001b[38;5;66;03m# utils\u001b[39;00m\n",
      "File \u001b[0;32m/opt/conda/lib/python3.8/site-packages/cuml/common/array.py:25\u001b[0m, in \u001b[0;36m<module>\u001b[0;34m\u001b[0m\n\u001b[1;32m     20\u001b[0m \u001b[38;5;28;01mimport\u001b[39;00m \u001b[38;5;21;01mnvtx\u001b[39;00m\n\u001b[1;32m     22\u001b[0m \u001b[38;5;66;03m# Temporarily disabled due to CUDA 11.0 issue\u001b[39;00m\n\u001b[1;32m     23\u001b[0m \u001b[38;5;66;03m# https://github.com/rapidsai/cuml/issues/4332\u001b[39;00m\n\u001b[1;32m     24\u001b[0m \u001b[38;5;66;03m# from rmm import DeviceBuffer\u001b[39;00m\n\u001b[0;32m---> 25\u001b[0m \u001b[38;5;28;01mfrom\u001b[39;00m \u001b[38;5;21;01mcudf\u001b[39;00m \u001b[38;5;28;01mimport\u001b[39;00m DataFrame\n\u001b[1;32m     26\u001b[0m \u001b[38;5;28;01mfrom\u001b[39;00m \u001b[38;5;21;01mcudf\u001b[39;00m \u001b[38;5;28;01mimport\u001b[39;00m Series\n\u001b[1;32m     27\u001b[0m \u001b[38;5;28;01mfrom\u001b[39;00m \u001b[38;5;21;01mcudf\u001b[39;00m\u001b[38;5;21;01m.\u001b[39;00m\u001b[38;5;21;01mcore\u001b[39;00m\u001b[38;5;21;01m.\u001b[39;00m\u001b[38;5;21;01mbuffer\u001b[39;00m \u001b[38;5;28;01mimport\u001b[39;00m Buffer\n",
      "File \u001b[0;32m/opt/conda/lib/python3.8/site-packages/cudf/__init__.py:5\u001b[0m, in \u001b[0;36m<module>\u001b[0;34m\u001b[0m\n\u001b[1;32m      1\u001b[0m \u001b[38;5;66;03m# Copyright (c) 2018-2022, NVIDIA CORPORATION.\u001b[39;00m\n\u001b[1;32m      3\u001b[0m \u001b[38;5;28;01mfrom\u001b[39;00m \u001b[38;5;21;01mcudf\u001b[39;00m\u001b[38;5;21;01m.\u001b[39;00m\u001b[38;5;21;01mutils\u001b[39;00m\u001b[38;5;21;01m.\u001b[39;00m\u001b[38;5;21;01mgpu_utils\u001b[39;00m \u001b[38;5;28;01mimport\u001b[39;00m validate_setup\n\u001b[0;32m----> 5\u001b[0m \u001b[43mvalidate_setup\u001b[49m\u001b[43m(\u001b[49m\u001b[43m)\u001b[49m\n\u001b[1;32m      7\u001b[0m \u001b[38;5;28;01mimport\u001b[39;00m \u001b[38;5;21;01mcupy\u001b[39;00m\n\u001b[1;32m      8\u001b[0m \u001b[38;5;28;01mfrom\u001b[39;00m \u001b[38;5;21;01mnumba\u001b[39;00m \u001b[38;5;28;01mimport\u001b[39;00m config \u001b[38;5;28;01mas\u001b[39;00m numba_config, cuda\n",
      "File \u001b[0;32m/opt/conda/lib/python3.8/site-packages/cudf/utils/gpu_utils.py:20\u001b[0m, in \u001b[0;36mvalidate_setup\u001b[0;34m()\u001b[0m\n\u001b[1;32m     16\u001b[0m \u001b[38;5;28;01mimport\u001b[39;00m \u001b[38;5;21;01mwarnings\u001b[39;00m\n\u001b[1;32m     18\u001b[0m \u001b[38;5;28;01mfrom\u001b[39;00m \u001b[38;5;21;01mcuda\u001b[39;00m\u001b[38;5;21;01m.\u001b[39;00m\u001b[38;5;21;01mcudart\u001b[39;00m \u001b[38;5;28;01mimport\u001b[39;00m cudaDeviceAttr, cudaError_t\n\u001b[0;32m---> 20\u001b[0m \u001b[38;5;28;01mfrom\u001b[39;00m \u001b[38;5;21;01mrmm\u001b[39;00m\u001b[38;5;21;01m.\u001b[39;00m\u001b[38;5;21;01m_cuda\u001b[39;00m\u001b[38;5;21;01m.\u001b[39;00m\u001b[38;5;21;01mgpu\u001b[39;00m \u001b[38;5;28;01mimport\u001b[39;00m (\n\u001b[1;32m     21\u001b[0m     CUDARuntimeError,\n\u001b[1;32m     22\u001b[0m     deviceGetName,\n\u001b[1;32m     23\u001b[0m     driverGetVersion,\n\u001b[1;32m     24\u001b[0m     getDeviceAttribute,\n\u001b[1;32m     25\u001b[0m     getDeviceCount,\n\u001b[1;32m     26\u001b[0m     runtimeGetVersion,\n\u001b[1;32m     27\u001b[0m )\n\u001b[1;32m     29\u001b[0m \u001b[38;5;28;01mfrom\u001b[39;00m \u001b[38;5;21;01mcudf\u001b[39;00m\u001b[38;5;21;01m.\u001b[39;00m\u001b[38;5;21;01merrors\u001b[39;00m \u001b[38;5;28;01mimport\u001b[39;00m UnsupportedCUDAError\n\u001b[1;32m     31\u001b[0m notify_caller_errors \u001b[38;5;241m=\u001b[39m {\n\u001b[1;32m     32\u001b[0m     cudaError_t\u001b[38;5;241m.\u001b[39mcudaErrorInitializationError,\n\u001b[1;32m     33\u001b[0m     cudaError_t\u001b[38;5;241m.\u001b[39mcudaErrorInsufficientDriver,\n\u001b[0;32m   (...)\u001b[0m\n\u001b[1;32m     48\u001b[0m     cudaError_t\u001b[38;5;241m.\u001b[39mcudaErrorApiFailureBase,\n\u001b[1;32m     49\u001b[0m }\n",
      "File \u001b[0;32m/opt/conda/lib/python3.8/site-packages/rmm/__init__.py:16\u001b[0m, in \u001b[0;36m<module>\u001b[0;34m\u001b[0m\n\u001b[1;32m      1\u001b[0m \u001b[38;5;66;03m# Copyright (c) 2018-2021, NVIDIA CORPORATION.\u001b[39;00m\n\u001b[1;32m      2\u001b[0m \u001b[38;5;66;03m#\u001b[39;00m\n\u001b[1;32m      3\u001b[0m \u001b[38;5;66;03m# Licensed under the Apache License, Version 2.0 (the \"License\");\u001b[39;00m\n\u001b[0;32m   (...)\u001b[0m\n\u001b[1;32m     12\u001b[0m \u001b[38;5;66;03m# See the License for the specific language governing permissions and\u001b[39;00m\n\u001b[1;32m     13\u001b[0m \u001b[38;5;66;03m# limitations under the License.\u001b[39;00m\n\u001b[1;32m     14\u001b[0m \u001b[38;5;28;01mimport\u001b[39;00m \u001b[38;5;21;01mweakref\u001b[39;00m\n\u001b[0;32m---> 16\u001b[0m \u001b[38;5;28;01mfrom\u001b[39;00m \u001b[38;5;21;01mrmm\u001b[39;00m \u001b[38;5;28;01mimport\u001b[39;00m mr\n\u001b[1;32m     17\u001b[0m \u001b[38;5;28;01mfrom\u001b[39;00m \u001b[38;5;21;01mrmm\u001b[39;00m\u001b[38;5;21;01m.\u001b[39;00m\u001b[38;5;21;01m_lib\u001b[39;00m\u001b[38;5;21;01m.\u001b[39;00m\u001b[38;5;21;01mdevice_buffer\u001b[39;00m \u001b[38;5;28;01mimport\u001b[39;00m DeviceBuffer\n\u001b[1;32m     18\u001b[0m \u001b[38;5;28;01mfrom\u001b[39;00m \u001b[38;5;21;01mrmm\u001b[39;00m\u001b[38;5;21;01m.\u001b[39;00m\u001b[38;5;21;01m_version\u001b[39;00m \u001b[38;5;28;01mimport\u001b[39;00m get_versions\n",
      "File \u001b[0;32m/opt/conda/lib/python3.8/site-packages/rmm/mr.py:14\u001b[0m, in \u001b[0;36m<module>\u001b[0;34m\u001b[0m\n\u001b[1;32m      1\u001b[0m \u001b[38;5;66;03m# Copyright (c) 2020-2021, NVIDIA CORPORATION.\u001b[39;00m\n\u001b[1;32m      2\u001b[0m \u001b[38;5;66;03m#\u001b[39;00m\n\u001b[1;32m      3\u001b[0m \u001b[38;5;66;03m# Licensed under the Apache License, Version 2.0 (the \"License\");\u001b[39;00m\n\u001b[0;32m   (...)\u001b[0m\n\u001b[1;32m     12\u001b[0m \u001b[38;5;66;03m# See the License for the specific language governing permissions and\u001b[39;00m\n\u001b[1;32m     13\u001b[0m \u001b[38;5;66;03m# limitations under the License.\u001b[39;00m\n\u001b[0;32m---> 14\u001b[0m \u001b[38;5;28;01mfrom\u001b[39;00m \u001b[38;5;21;01mrmm\u001b[39;00m\u001b[38;5;21;01m.\u001b[39;00m\u001b[38;5;21;01m_lib\u001b[39;00m\u001b[38;5;21;01m.\u001b[39;00m\u001b[38;5;21;01mmemory_resource\u001b[39;00m \u001b[38;5;28;01mimport\u001b[39;00m (\n\u001b[1;32m     15\u001b[0m     BinningMemoryResource,\n\u001b[1;32m     16\u001b[0m     CudaAsyncMemoryResource,\n\u001b[1;32m     17\u001b[0m     CudaMemoryResource,\n\u001b[1;32m     18\u001b[0m     DeviceMemoryResource,\n\u001b[1;32m     19\u001b[0m     FailureCallbackResourceAdaptor,\n\u001b[1;32m     20\u001b[0m     FixedSizeMemoryResource,\n\u001b[1;32m     21\u001b[0m     LoggingResourceAdaptor,\n\u001b[1;32m     22\u001b[0m     ManagedMemoryResource,\n\u001b[1;32m     23\u001b[0m     PoolMemoryResource,\n\u001b[1;32m     24\u001b[0m     StatisticsResourceAdaptor,\n\u001b[1;32m     25\u001b[0m     TrackingResourceAdaptor,\n\u001b[1;32m     26\u001b[0m     _flush_logs,\n\u001b[1;32m     27\u001b[0m     _initialize,\n\u001b[1;32m     28\u001b[0m     disable_logging,\n\u001b[1;32m     29\u001b[0m     enable_logging,\n\u001b[1;32m     30\u001b[0m     get_current_device_resource,\n\u001b[1;32m     31\u001b[0m     get_current_device_resource_type,\n\u001b[1;32m     32\u001b[0m     get_log_filenames,\n\u001b[1;32m     33\u001b[0m     get_per_device_resource,\n\u001b[1;32m     34\u001b[0m     get_per_device_resource_type,\n\u001b[1;32m     35\u001b[0m     is_initialized,\n\u001b[1;32m     36\u001b[0m     set_current_device_resource,\n\u001b[1;32m     37\u001b[0m     set_per_device_resource,\n\u001b[1;32m     38\u001b[0m )\n\u001b[1;32m     40\u001b[0m __all__ \u001b[38;5;241m=\u001b[39m [\n\u001b[1;32m     41\u001b[0m     \u001b[38;5;124m\"\u001b[39m\u001b[38;5;124mBinningMemoryResource\u001b[39m\u001b[38;5;124m\"\u001b[39m,\n\u001b[1;32m     42\u001b[0m     \u001b[38;5;124m\"\u001b[39m\u001b[38;5;124mCudaAsyncMemoryResource\u001b[39m\u001b[38;5;124m\"\u001b[39m,\n\u001b[0;32m   (...)\u001b[0m\n\u001b[1;32m     63\u001b[0m     \u001b[38;5;124m\"\u001b[39m\u001b[38;5;124mis_initialized\u001b[39m\u001b[38;5;124m\"\u001b[39m,\n\u001b[1;32m     64\u001b[0m ]\n",
      "File \u001b[0;32m/opt/conda/lib/python3.8/site-packages/rmm/_lib/__init__.py:15\u001b[0m, in \u001b[0;36m<module>\u001b[0;34m\u001b[0m\n\u001b[1;32m      1\u001b[0m \u001b[38;5;66;03m# Copyright (c) 2019-2021, NVIDIA CORPORATION.\u001b[39;00m\n\u001b[1;32m      2\u001b[0m \u001b[38;5;66;03m#\u001b[39;00m\n\u001b[1;32m      3\u001b[0m \u001b[38;5;66;03m# Licensed under the Apache License, Version 2.0 (the \"License\");\u001b[39;00m\n\u001b[0;32m   (...)\u001b[0m\n\u001b[1;32m     12\u001b[0m \u001b[38;5;66;03m# See the License for the specific language governing permissions and\u001b[39;00m\n\u001b[1;32m     13\u001b[0m \u001b[38;5;66;03m# limitations under the License.\u001b[39;00m\n\u001b[0;32m---> 15\u001b[0m \u001b[38;5;28;01mfrom\u001b[39;00m \u001b[38;5;21;01m.\u001b[39;00m\u001b[38;5;21;01mdevice_buffer\u001b[39;00m \u001b[38;5;28;01mimport\u001b[39;00m DeviceBuffer\n",
      "File \u001b[0;32mdevice_buffer.pyx:1\u001b[0m, in \u001b[0;36minit rmm._lib.device_buffer\u001b[0;34m()\u001b[0m\n",
      "\u001b[0;31mTypeError\u001b[0m: C function cuda.ccudart.cudaStreamSynchronize has wrong signature (expected __pyx_t_4cuda_7ccudart_cudaError_t (__pyx_t_4cuda_7ccudart_cudaStream_t), got cudaError_t (cudaStream_t))"
     ]
    }
   ],
   "source": [
    "import numpy as np\n",
    "import cuml\n",
    "from cuml.linear_model import LogisticRegression\n",
    "#from sklearn.linear_model import LogisticRegression as sklLogisticRegression\n",
    "\n",
    "import matplotlib.pyplot as plt\n",
    "from timeit import default_timer\n",
    "from cuml.model_selection import train_test_split\n",
    "from cudf import Series\n",
    "from scipy import stats\n",
    "import cupy as cp\n",
    "\n",
    "import sklearn\n",
    "from sklearn.datasets import fetch_openml\n",
    "\n",
    "# Download the data.\n",
    "X, y = fetch_openml('mnist_784', version=1, return_X_y=True, as_frame=False) "
   ]
  },
  {
   "cell_type": "code",
   "execution_count": 48,
   "metadata": {},
   "outputs": [],
   "source": [
    "# Move the data onto the device.\n",
    "# Cupy implements the array interface that cuML understands, among other libraries. \n",
    "X_d = cp.asarray(X, dtype=cp.float32)\n",
    "y_d = cp.asarray(y, dtype=cp.float32)\n",
    "\n",
    "# Scale features to [0,1]\n",
    "X_d /= 255.0\n",
    "\n",
    "# Set up the binary classification problem 4 vs 7.\n",
    "class_0 = 4\n",
    "class_1 = 7\n",
    "idx_ = cp.logical_or((y_d == class_0), (y_d == class_1))\n",
    "X_ = X_d[idx_, :]\n",
    "y_ = y_d[idx_]\n",
    "y_[y_ == class_0] = 0.0\n",
    "y_[y_ == class_1] = 1.0\n",
    "\n",
    "# Prepare the train and test data.\n",
    "X_train, X_test, y_train, y_test = train_test_split(X_, y_, random_state=77)"
   ]
  },
  {
   "cell_type": "code",
   "execution_count": 49,
   "metadata": {},
   "outputs": [
    {
     "name": "stdout",
     "output_type": "stream",
     "text": [
      "cuML score train:  0.9959, test:  0.9881\n"
     ]
    }
   ],
   "source": [
    "# Set up the model and learning algorithm.\n",
    "params = {'penalty':'l2', 'C':1, 'tol':1e-4, 'fit_intercept': True, 'max_iter':2000, 'verbose':False}\n",
    "cls = LogisticRegression(**params)\n",
    "\n",
    "# Run the learning algorithm.\n",
    "cls.fit(X_train, y_train)\n",
    "\n",
    "# Evaluate the model.\n",
    "print('cuML score train: {0:7.4f}, test: {1:7.4f}'.format(cls.score(X_train, y_train), cls.score(X_test, y_test)))"
   ]
  },
  {
   "cell_type": "code",
   "execution_count": 60,
   "metadata": {},
   "outputs": [],
   "source": [
    "w = cls.coef_\n",
    "b = cls.intercept_\n",
    "z = (X_ @ w + b).get()"
   ]
  },
  {
   "cell_type": "code",
   "execution_count": 63,
   "metadata": {},
   "outputs": [],
   "source": [
    "sidx = np.argsort(np.abs(z), axis=0)"
   ]
  },
  {
   "cell_type": "code",
   "execution_count": 65,
   "metadata": {
    "scrolled": true
   },
   "outputs": [
    {
     "name": "stdout",
     "output_type": "stream",
     "text": [
      "[13403] [[0.499139]]\n",
      "[12939] [[0.4983705]]\n",
      "[12517] [[0.50233537]]\n",
      "[8053] [[0.49099982]]\n",
      "[6015] [[0.49044102]]\n",
      "[6480] [[0.48875946]]\n",
      "[2993] [[0.48574734]]\n",
      "[1313] [[0.48572266]]\n",
      "[5319] [[0.51563]]\n",
      "[7088] [[0.48062986]]\n"
     ]
    },
    {
     "data": {
      "image/png": "[encoded data removed]",
      "text/plain": [
       "<Figure size 432x288 with 1 Axes>"
      ]
     },
     "metadata": {
      "needs_background": "light"
     },
     "output_type": "display_data"
    },
    {
     "data": {
      "image/png": "[encoded data removed]",
      "text/plain": [
       "<Figure size 432x288 with 1 Axes>"
      ]
     },
     "metadata": {
      "needs_background": "light"
     },
     "output_type": "display_data"
    },
    {
     "data": {
      "image/png": "[encoded data removed]",
      "text/plain": [
       "<Figure size 432x288 with 1 Axes>"
      ]
     },
     "metadata": {
      "needs_background": "light"
     },
     "output_type": "display_data"
    },
    {
     "data": {
      "image/png": "[encoded data removed]",
      "text/plain": [
       "<Figure size 432x288 with 1 Axes>"
      ]
     },
     "metadata": {
      "needs_background": "light"
     },
     "output_type": "display_data"
    },
    {
     "data": {
      "image/png": "[encoded data removed]",
      "text/plain": [
       "<Figure size 432x288 with 1 Axes>"
      ]
     },
     "metadata": {
      "needs_background": "light"
     },
     "output_type": "display_data"
    },
    {
     "data": {
      "image/png": "[encoded data removed]",
      "text/plain": [
       "<Figure size 432x288 with 1 Axes>"
      ]
     },
     "metadata": {
      "needs_background": "light"
     },
     "output_type": "display_data"
    },
    {
     "data": {
      "image/png": "[encoded data removed]",
      "text/plain": [
       "<Figure size 432x288 with 1 Axes>"
      ]
     },
     "metadata": {
      "needs_background": "light"
     },
     "output_type": "display_data"
    },
    {
     "data": {
      "image/png": "[encoded data removed]",
      "text/plain": [
       "<Figure size 432x288 with 1 Axes>"
      ]
     },
     "metadata": {
      "needs_background": "light"
     },
     "output_type": "display_data"
    },
    {
     "data": {
      "image/png": "[encoded data removed]",
      "text/plain": [
       "<Figure size 432x288 with 1 Axes>"
      ]
     },
     "metadata": {
      "needs_background": "light"
     },
     "output_type": "display_data"
    },
    {
     "data": {
      "image/png": "[encoded data removed]",
      "text/plain": [
       "<Figure size 432x288 with 1 Axes>"
      ]
     },
     "metadata": {
      "needs_background": "light"
     },
     "output_type": "display_data"
    }
   ],
   "source": [
    "X_np = X_.get()\n",
    "for idx in sidx[:10]:\n",
    "    print(idx, 1/(1+np.exp(-z[idx])))\n",
    "    plt.figure()\n",
    "    plt.imshow(X_np[idx,:].reshape(28,28))"
   ]
  },
  {
   "cell_type": "code",
   "execution_count": 66,
   "metadata": {},
   "outputs": [
    {
     "name": "stdout",
     "output_type": "stream",
     "text": [
      "[8405] [[1.]]\n",
      "[4364] [[1.]]\n",
      "[1294] [[1.]]\n",
      "[8503] [[1.]]\n",
      "[8628] [[1.]]\n",
      "[6963] [[1.]]\n",
      "[11980] [[1.]]\n",
      "[9284] [[1.]]\n",
      "[621] [[1.]]\n",
      "[2834] [[1.]]\n"
     ]
    },
    {
     "data": {
      "image/png": "[encoded data removed]",
      "text/plain": [
       "<Figure size 432x288 with 1 Axes>"
      ]
     },
     "metadata": {
      "needs_background": "light"
     },
     "output_type": "display_data"
    },
    {
     "data": {
      "image/png": "[encoded data removed]",
      "text/plain": [
       "<Figure size 432x288 with 1 Axes>"
      ]
     },
     "metadata": {
      "needs_background": "light"
     },
     "output_type": "display_data"
    },
    {
     "data": {
      "image/png": "[encoded data removed]",
      "text/plain": [
       "<Figure size 432x288 with 1 Axes>"
      ]
     },
     "metadata": {
      "needs_background": "light"
     },
     "output_type": "display_data"
    },
    {
     "data": {
      "image/png": "[encoded data removed]",
      "text/plain": [
       "<Figure size 432x288 with 1 Axes>"
      ]
     },
     "metadata": {
      "needs_background": "light"
     },
     "output_type": "display_data"
    },
    {
     "data": {
      "image/png": "[encoded data removed]",
      "text/plain": [
       "<Figure size 432x288 with 1 Axes>"
      ]
     },
     "metadata": {
      "needs_background": "light"
     },
     "output_type": "display_data"
    },
    {
     "data": {
      "image/png": "[encoded data removed]",
      "text/plain": [
       "<Figure size 432x288 with 1 Axes>"
      ]
     },
     "metadata": {
      "needs_background": "light"
     },
     "output_type": "display_data"
    },
    {
     "data": {
      "image/png": "[encoded data removed]",
      "text/plain": [
       "<Figure size 432x288 with 1 Axes>"
      ]
     },
     "metadata": {
      "needs_background": "light"
     },
     "output_type": "display_data"
    },
    {
     "data": {
      "image/png": "[encoded data removed]",
      "text/plain": [
       "<Figure size 432x288 with 1 Axes>"
      ]
     },
     "metadata": {
      "needs_background": "light"
     },
     "output_type": "display_data"
    },
    {
     "data": {
      "image/png": "[encoded data removed]",
      "text/plain": [
       "<Figure size 432x288 with 1 Axes>"
      ]
     },
     "metadata": {
      "needs_background": "light"
     },
     "output_type": "display_data"
    },
    {
     "data": {
      "image/png": "[encoded data removed]",
      "text/plain": [
       "<Figure size 432x288 with 1 Axes>"
      ]
     },
     "metadata": {
      "needs_background": "light"
     },
     "output_type": "display_data"
    }
   ],
   "source": [
    "for idx in sidx[-10 :]:\n",
    "    print(idx, 1/(1+np.exp(-z[idx])))\n",
    "    plt.figure()\n",
    "    plt.imshow(X_np[idx,:].reshape(28,28))"
   ]
  },
  {
   "cell_type": "markdown",
   "metadata": {},
   "source": [
    "## Exercise 4. XGBoost \n",
    " \n",
    "1. Sketch the piece-wise constant function represented by the following trees on the domain $[-1,1]$\n",
    "```\n",
    "# Tree 1\n",
    "     (0.15)\n",
    "```\n",
    "```\n",
    "# Tree 2\n",
    "     (x < 0)\n",
    "     /     \\\n",
    "  (0.1)   (0.2)\n",
    "```\n",
    "```\n",
    "# Tree 3\n",
    "     (x < 0)\n",
    "     /     \\\n",
    "  (0.1)   (x < 0.5)\n",
    "          /       \\\n",
    "       (0.2)     (0.1) \n",
    "```\n"
   ]
  },
  {
   "cell_type": "code",
   "execution_count": 17,
   "metadata": {},
   "outputs": [],
   "source": [
    "from mlcourse import *"
   ]
  },
  {
   "cell_type": "code",
   "execution_count": 18,
   "metadata": {},
   "outputs": [
    {
     "data": {
      "image/png": "[encoded data removed]",
      "text/plain": [
       "<Figure size 864x288 with 1 Axes>"
      ]
     },
     "metadata": {
      "needs_background": "light"
     },
     "output_type": "display_data"
    }
   ],
   "source": [
    "root = Node()\n",
    "root.value = 0.15\n",
    "y_test = pred1d([root], x_test)\n",
    "plot_region1d(root, x_test, y_test)"
   ]
  },
  {
   "cell_type": "code",
   "execution_count": 36,
   "metadata": {},
   "outputs": [
    {
     "data": {
      "image/png": "[encoded data removed]",
      "text/plain": [
       "<Figure size 864x288 with 1 Axes>"
      ]
     },
     "metadata": {
      "needs_background": "light"
     },
     "output_type": "display_data"
    }
   ],
   "source": [
    "root = Node()\n",
    "l = Node()\n",
    "l.value = 0.1\n",
    "\n",
    "r = Node()\n",
    "r.value = 0.2 \n",
    "root.value = 0\n",
    "root.split = 0.0\n",
    "root.left = l\n",
    "root.right = r\n",
    "y_test = pred1d([root], x_test)\n",
    "plot_region1d(root, x_test, y_test)"
   ]
  },
  {
   "cell_type": "code",
   "execution_count": 20,
   "metadata": {},
   "outputs": [
    {
     "data": {
      "image/png": "[encoded data removed]",
      "text/plain": [
       "<Figure size 864x288 with 1 Axes>"
      ]
     },
     "metadata": {
      "needs_background": "light"
     },
     "output_type": "display_data"
    }
   ],
   "source": [
    "l = Node()\n",
    "l.value = 0.1\n",
    "\n",
    "r = Node()\n",
    "r.split = 0.5\n",
    "r.value = 0\n",
    "\n",
    "rl = Node()\n",
    "rl.value = 0.2\n",
    "\n",
    "rr = Node()\n",
    "rr.value = 0.1\n",
    "r.left = rl\n",
    "r.right =rr\n",
    "\n",
    "root = Node()\n",
    "root.split = 0.0\n",
    "root.left = l\n",
    "root.right = r\n",
    "\n",
    "y_test = pred1d([root], x_test)\n",
    "\n",
    "plot_region1d(root, x_test, y_test)"
   ]
  },
  {
   "cell_type": "markdown",
   "metadata": {},
   "source": [
    "## Exercise 5\n",
    "\n",
    "Given a set of training points $x_0 = -1, x_1=-0.5, x_2=0, x_3=0.5, x_4=1$. For the trees from Exercise 4, \n",
    "- determine the vector $w$\n",
    "- evaluate the function $q$\n",
    "- find the set $\\mathcal{L}_n$ for all leaves $n$"
   ]
  },
  {
   "cell_type": "markdown",
   "metadata": {},
   "source": [
    "## Solution 5\n",
    "\n",
    "### Tree 1\n",
    "- $L=1$ and $w$ is 0.15\n",
    "- There is only one node, the root 0. Hence, $q(x) = 0$\n",
    "- $\\mathcal{L}_0 = {0,1,2,3,4}$\n",
    "\n",
    "### Tree 2\n",
    "- $L=2$, $w_0 = 0.1$, $w_1=0.2$\n",
    "- $q(x_i) = 0$ for $i=0, 1$, and $q(x_i) = 1$ for $i=2,3,4$\n",
    "- $\\mathcal{L}_0 = {0,1}$\n",
    "- $\\mathcal{L}_1 = {2,3,4}$\n",
    "\n",
    "### Tree 3\n",
    "- $L=3$, $w_0 = 0.1$, $w_1=0.2$, $w_2=0.1$\n",
    "- $q(x_i) = 0$ for $i=0, 1$, and $q(x_i) = 1$ for $i=2$, and $q(x_i) = 2$ for $i=3,4$\n",
    "- $\\mathcal{L}_0 = {0,1}$\n",
    "- $\\mathcal{L}_1 = {2}$\n",
    "- $\\mathcal{L}_2 = {3,4}$\n"
   ]
  },
  {
   "cell_type": "code",
   "execution_count": 82,
   "metadata": {},
   "outputs": [],
   "source": [
    "import numpy as np\n",
    "import cudf\n",
    "import cuml\n",
    "from cuml.linear_model import LogisticRegression\n",
    "from cuml import train_test_split\n",
    "import xgboost as xgb\n",
    "import matplotlib.pyplot as plt\n",
    "\n",
    "# The dataset is publicly available under the following URL:\n",
    "#!wget https://archive.ics.uci.edu/ml/machine-learning-databases/00280/HIGGS.csv.gz\n",
    "# But we downloaded it for you :)\n",
    "#dataset_path = '/scratch/snx3000/datasets/uci.edu/HIGGS.csv.gz'\n",
    "dataset_path = '/data/projects/SummerUniversity2022/ml_rapids/HIGGS.csv.gz'\n",
    "\n",
    "gdf = cudf.read_csv(dataset_path, dtypes=[np.float32] * 29, header=None)\n",
    "gdf.head()\n",
    "\n",
    "\n",
    "X_higgs, y_higgs = gdf.iloc[:,1:], gdf.iloc[:,0]\n",
    "\n",
    "X_train, X_test, y_train, y_test = train_test_split(X_higgs.values, y_higgs.values, test_size=0.2, random_state=123)"
   ]
  },
  {
   "cell_type": "code",
   "execution_count": 106,
   "metadata": {},
   "outputs": [
    {
     "name": "stdout",
     "output_type": "stream",
     "text": [
      "Log.Reg score train:  0.6418, test:  0.6414\n"
     ]
    }
   ],
   "source": [
    "# logistic regression\n",
    "mu = X_train.mean(keepdims=True)\n",
    "sigma = X_train.std(keepdims=True)\n",
    "X_train_std = (X_train - mu) / sigma\n",
    "X_test_std = (X_test - mu) / sigma\n",
    "\n",
    "params = {'penalty':'l2', 'C':1, 'tol':1e-4, 'fit_intercept': True, 'max_iter':2000, 'verbose':False}\n",
    "\n",
    "cls = LogisticRegression(**params)\n",
    "\n",
    "cls.fit(X_train_std, y_train)\n",
    "print('Log.Reg score train: {0:7.4f}, test: {1:7.4f}'.format(cls.score(X_train_std, y_train), cls.score(X_test_std, y_test)))"
   ]
  },
  {
   "cell_type": "code",
   "execution_count": 109,
   "metadata": {},
   "outputs": [
    {
     "name": "stdout",
     "output_type": "stream",
     "text": [
      "[0]\ttrain-error:0.31991\tvalidation-error:0.31972\n",
      "[1]\ttrain-error:0.30770\tvalidation-error:0.30803\n",
      "[2]\ttrain-error:0.29946\tvalidation-error:0.29990\n",
      "[3]\ttrain-error:0.29272\tvalidation-error:0.29331\n",
      "[4]\ttrain-error:0.28977\tvalidation-error:0.29014\n",
      "[5]\ttrain-error:0.28759\tvalidation-error:0.28789\n",
      "[6]\ttrain-error:0.28595\tvalidation-error:0.28650\n",
      "[7]\ttrain-error:0.28362\tvalidation-error:0.28403\n",
      "[8]\ttrain-error:0.28237\tvalidation-error:0.28277\n",
      "[9]\ttrain-error:0.28058\tvalidation-error:0.28112\n",
      "[10]\ttrain-error:0.27877\tvalidation-error:0.27933\n",
      "[11]\ttrain-error:0.27805\tvalidation-error:0.27870\n",
      "[12]\ttrain-error:0.27710\tvalidation-error:0.27783\n",
      "[13]\ttrain-error:0.27556\tvalidation-error:0.27629\n",
      "[14]\ttrain-error:0.27472\tvalidation-error:0.27547\n",
      "[15]\ttrain-error:0.27426\tvalidation-error:0.27510\n",
      "[16]\ttrain-error:0.27327\tvalidation-error:0.27411\n",
      "[17]\ttrain-error:0.27293\tvalidation-error:0.27380\n",
      "[18]\ttrain-error:0.27217\tvalidation-error:0.27296\n",
      "[19]\ttrain-error:0.27141\tvalidation-error:0.27223\n",
      "[20]\ttrain-error:0.27114\tvalidation-error:0.27199\n",
      "[21]\ttrain-error:0.27085\tvalidation-error:0.27166\n",
      "[22]\ttrain-error:0.27008\tvalidation-error:0.27098\n",
      "[23]\ttrain-error:0.26951\tvalidation-error:0.27051\n",
      "[24]\ttrain-error:0.26906\tvalidation-error:0.27006\n",
      "[25]\ttrain-error:0.26857\tvalidation-error:0.26956\n",
      "[26]\ttrain-error:0.26801\tvalidation-error:0.26897\n",
      "[27]\ttrain-error:0.26766\tvalidation-error:0.26872\n",
      "[28]\ttrain-error:0.26686\tvalidation-error:0.26793\n",
      "[29]\ttrain-error:0.26622\tvalidation-error:0.26739\n",
      "[30]\ttrain-error:0.26590\tvalidation-error:0.26717\n",
      "[31]\ttrain-error:0.26531\tvalidation-error:0.26657\n",
      "[32]\ttrain-error:0.26506\tvalidation-error:0.26638\n",
      "[33]\ttrain-error:0.26453\tvalidation-error:0.26587\n",
      "[34]\ttrain-error:0.26415\tvalidation-error:0.26557\n",
      "[35]\ttrain-error:0.26393\tvalidation-error:0.26537\n",
      "[36]\ttrain-error:0.26368\tvalidation-error:0.26519\n",
      "[37]\ttrain-error:0.26351\tvalidation-error:0.26506\n",
      "[38]\ttrain-error:0.26321\tvalidation-error:0.26471\n",
      "[39]\ttrain-error:0.26308\tvalidation-error:0.26451\n",
      "[40]\ttrain-error:0.26274\tvalidation-error:0.26423\n",
      "[41]\ttrain-error:0.26249\tvalidation-error:0.26396\n",
      "[42]\ttrain-error:0.26194\tvalidation-error:0.26344\n",
      "[43]\ttrain-error:0.26181\tvalidation-error:0.26336\n",
      "[44]\ttrain-error:0.26151\tvalidation-error:0.26318\n",
      "[45]\ttrain-error:0.26109\tvalidation-error:0.26275\n",
      "[46]\ttrain-error:0.26089\tvalidation-error:0.26251\n",
      "[47]\ttrain-error:0.26064\tvalidation-error:0.26227\n",
      "[48]\ttrain-error:0.26038\tvalidation-error:0.26215\n",
      "[49]\ttrain-error:0.26006\tvalidation-error:0.26195\n",
      "[50]\ttrain-error:0.25994\tvalidation-error:0.26184\n",
      "[51]\ttrain-error:0.25970\tvalidation-error:0.26161\n",
      "[52]\ttrain-error:0.25947\tvalidation-error:0.26130\n",
      "[53]\ttrain-error:0.25931\tvalidation-error:0.26106\n",
      "[54]\ttrain-error:0.25908\tvalidation-error:0.26076\n",
      "[55]\ttrain-error:0.25898\tvalidation-error:0.26071\n",
      "[56]\ttrain-error:0.25892\tvalidation-error:0.26060\n",
      "[57]\ttrain-error:0.25876\tvalidation-error:0.26050\n",
      "[58]\ttrain-error:0.25846\tvalidation-error:0.26029\n",
      "[59]\ttrain-error:0.25828\tvalidation-error:0.26012\n",
      "[60]\ttrain-error:0.25807\tvalidation-error:0.25998\n",
      "[61]\ttrain-error:0.25793\tvalidation-error:0.25987\n",
      "[62]\ttrain-error:0.25776\tvalidation-error:0.25967\n",
      "[63]\ttrain-error:0.25771\tvalidation-error:0.25960\n",
      "[64]\ttrain-error:0.25759\tvalidation-error:0.25955\n",
      "[65]\ttrain-error:0.25747\tvalidation-error:0.25942\n",
      "[66]\ttrain-error:0.25734\tvalidation-error:0.25941\n",
      "[67]\ttrain-error:0.25702\tvalidation-error:0.25905\n",
      "[68]\ttrain-error:0.25679\tvalidation-error:0.25888\n",
      "[69]\ttrain-error:0.25663\tvalidation-error:0.25873\n",
      "[70]\ttrain-error:0.25645\tvalidation-error:0.25859\n",
      "[71]\ttrain-error:0.25623\tvalidation-error:0.25844\n",
      "[72]\ttrain-error:0.25610\tvalidation-error:0.25822\n",
      "[73]\ttrain-error:0.25591\tvalidation-error:0.25805\n",
      "[74]\ttrain-error:0.25566\tvalidation-error:0.25789\n",
      "[75]\ttrain-error:0.25555\tvalidation-error:0.25780\n",
      "[76]\ttrain-error:0.25545\tvalidation-error:0.25774\n",
      "[77]\ttrain-error:0.25533\tvalidation-error:0.25764\n",
      "[78]\ttrain-error:0.25529\tvalidation-error:0.25750\n",
      "[79]\ttrain-error:0.25513\tvalidation-error:0.25733\n",
      "[80]\ttrain-error:0.25506\tvalidation-error:0.25732\n",
      "[81]\ttrain-error:0.25493\tvalidation-error:0.25719\n",
      "[82]\ttrain-error:0.25484\tvalidation-error:0.25708\n",
      "[83]\ttrain-error:0.25472\tvalidation-error:0.25705\n",
      "[84]\ttrain-error:0.25460\tvalidation-error:0.25689\n",
      "[85]\ttrain-error:0.25447\tvalidation-error:0.25684\n",
      "[86]\ttrain-error:0.25438\tvalidation-error:0.25665\n",
      "[87]\ttrain-error:0.25430\tvalidation-error:0.25662\n",
      "[88]\ttrain-error:0.25416\tvalidation-error:0.25650\n",
      "[89]\ttrain-error:0.25405\tvalidation-error:0.25641\n",
      "[90]\ttrain-error:0.25396\tvalidation-error:0.25625\n",
      "[91]\ttrain-error:0.25383\tvalidation-error:0.25610\n",
      "[92]\ttrain-error:0.25367\tvalidation-error:0.25598\n",
      "[93]\ttrain-error:0.25357\tvalidation-error:0.25590\n",
      "[94]\ttrain-error:0.25352\tvalidation-error:0.25590\n",
      "[95]\ttrain-error:0.25336\tvalidation-error:0.25577\n",
      "[96]\ttrain-error:0.25325\tvalidation-error:0.25571\n",
      "[97]\ttrain-error:0.25318\tvalidation-error:0.25570\n",
      "[98]\ttrain-error:0.25308\tvalidation-error:0.25569\n",
      "[99]\ttrain-error:0.25301\tvalidation-error:0.25561\n",
      "[100]\ttrain-error:0.25297\tvalidation-error:0.25557\n",
      "[101]\ttrain-error:0.25280\tvalidation-error:0.25545\n",
      "[102]\ttrain-error:0.25266\tvalidation-error:0.25532\n",
      "[103]\ttrain-error:0.25259\tvalidation-error:0.25527\n",
      "[104]\ttrain-error:0.25251\tvalidation-error:0.25523\n",
      "[105]\ttrain-error:0.25244\tvalidation-error:0.25520\n",
      "[106]\ttrain-error:0.25233\tvalidation-error:0.25516\n",
      "[107]\ttrain-error:0.25223\tvalidation-error:0.25506\n",
      "[108]\ttrain-error:0.25217\tvalidation-error:0.25500\n",
      "[109]\ttrain-error:0.25208\tvalidation-error:0.25494\n",
      "[110]\ttrain-error:0.25200\tvalidation-error:0.25486\n",
      "[111]\ttrain-error:0.25190\tvalidation-error:0.25479\n",
      "[112]\ttrain-error:0.25185\tvalidation-error:0.25472\n",
      "[113]\ttrain-error:0.25177\tvalidation-error:0.25462\n",
      "[114]\ttrain-error:0.25169\tvalidation-error:0.25456\n",
      "[115]\ttrain-error:0.25161\tvalidation-error:0.25451\n",
      "[116]\ttrain-error:0.25153\tvalidation-error:0.25445\n",
      "[117]\ttrain-error:0.25144\tvalidation-error:0.25440\n",
      "[118]\ttrain-error:0.25142\tvalidation-error:0.25438\n",
      "[119]\ttrain-error:0.25134\tvalidation-error:0.25434\n",
      "[120]\ttrain-error:0.25127\tvalidation-error:0.25427\n",
      "[121]\ttrain-error:0.25117\tvalidation-error:0.25417\n",
      "[122]\ttrain-error:0.25084\tvalidation-error:0.25399\n",
      "[123]\ttrain-error:0.25072\tvalidation-error:0.25388\n",
      "[124]\ttrain-error:0.25059\tvalidation-error:0.25382\n",
      "[125]\ttrain-error:0.25040\tvalidation-error:0.25364\n",
      "[126]\ttrain-error:0.25035\tvalidation-error:0.25363\n",
      "[127]\ttrain-error:0.25021\tvalidation-error:0.25358\n",
      "[128]\ttrain-error:0.25011\tvalidation-error:0.25351\n",
      "[129]\ttrain-error:0.25005\tvalidation-error:0.25345\n",
      "[130]\ttrain-error:0.25001\tvalidation-error:0.25338\n",
      "[131]\ttrain-error:0.24995\tvalidation-error:0.25337\n",
      "[132]\ttrain-error:0.24987\tvalidation-error:0.25330\n",
      "[133]\ttrain-error:0.24979\tvalidation-error:0.25333\n",
      "[134]\ttrain-error:0.24968\tvalidation-error:0.25324\n",
      "[135]\ttrain-error:0.24956\tvalidation-error:0.25313\n",
      "[136]\ttrain-error:0.24951\tvalidation-error:0.25312\n",
      "[137]\ttrain-error:0.24941\tvalidation-error:0.25305\n",
      "[138]\ttrain-error:0.24929\tvalidation-error:0.25288\n",
      "[139]\ttrain-error:0.24925\tvalidation-error:0.25279\n",
      "[140]\ttrain-error:0.24904\tvalidation-error:0.25261\n",
      "[141]\ttrain-error:0.24900\tvalidation-error:0.25258\n",
      "[142]\ttrain-error:0.24887\tvalidation-error:0.25256\n",
      "[143]\ttrain-error:0.24879\tvalidation-error:0.25252\n",
      "[144]\ttrain-error:0.24873\tvalidation-error:0.25252\n",
      "[145]\ttrain-error:0.24864\tvalidation-error:0.25243\n",
      "[146]\ttrain-error:0.24855\tvalidation-error:0.25237\n",
      "[147]\ttrain-error:0.24854\tvalidation-error:0.25230\n",
      "[148]\ttrain-error:0.24847\tvalidation-error:0.25222\n",
      "[149]\ttrain-error:0.24842\tvalidation-error:0.25220\n",
      "[150]\ttrain-error:0.24832\tvalidation-error:0.25227\n",
      "[151]\ttrain-error:0.24830\tvalidation-error:0.25223\n",
      "[152]\ttrain-error:0.24825\tvalidation-error:0.25222\n",
      "[153]\ttrain-error:0.24821\tvalidation-error:0.25221\n",
      "[154]\ttrain-error:0.24810\tvalidation-error:0.25208\n",
      "[155]\ttrain-error:0.24804\tvalidation-error:0.25205\n",
      "[156]\ttrain-error:0.24795\tvalidation-error:0.25201\n",
      "[157]\ttrain-error:0.24791\tvalidation-error:0.25196\n",
      "[158]\ttrain-error:0.24785\tvalidation-error:0.25189\n",
      "[159]\ttrain-error:0.24775\tvalidation-error:0.25177\n",
      "[160]\ttrain-error:0.24764\tvalidation-error:0.25176\n",
      "[161]\ttrain-error:0.24757\tvalidation-error:0.25169\n",
      "[162]\ttrain-error:0.24755\tvalidation-error:0.25168\n"
     ]
    },
    {
     "name": "stdout",
     "output_type": "stream",
     "text": [
      "[163]\ttrain-error:0.24747\tvalidation-error:0.25158\n",
      "[164]\ttrain-error:0.24735\tvalidation-error:0.25150\n",
      "[165]\ttrain-error:0.24729\tvalidation-error:0.25149\n",
      "[166]\ttrain-error:0.24718\tvalidation-error:0.25145\n",
      "[167]\ttrain-error:0.24708\tvalidation-error:0.25140\n",
      "[168]\ttrain-error:0.24703\tvalidation-error:0.25132\n",
      "[169]\ttrain-error:0.24694\tvalidation-error:0.25132\n",
      "[170]\ttrain-error:0.24668\tvalidation-error:0.25109\n",
      "[171]\ttrain-error:0.24658\tvalidation-error:0.25107\n",
      "[172]\ttrain-error:0.24647\tvalidation-error:0.25093\n",
      "[173]\ttrain-error:0.24636\tvalidation-error:0.25089\n",
      "[174]\ttrain-error:0.24624\tvalidation-error:0.25065\n",
      "[175]\ttrain-error:0.24612\tvalidation-error:0.25057\n",
      "[176]\ttrain-error:0.24609\tvalidation-error:0.25053\n",
      "[177]\ttrain-error:0.24599\tvalidation-error:0.25054\n",
      "[178]\ttrain-error:0.24596\tvalidation-error:0.25044\n",
      "[179]\ttrain-error:0.24592\tvalidation-error:0.25041\n",
      "[180]\ttrain-error:0.24582\tvalidation-error:0.25045\n",
      "[181]\ttrain-error:0.24576\tvalidation-error:0.25038\n",
      "[182]\ttrain-error:0.24570\tvalidation-error:0.25032\n",
      "[183]\ttrain-error:0.24559\tvalidation-error:0.25025\n",
      "[184]\ttrain-error:0.24550\tvalidation-error:0.25019\n",
      "[185]\ttrain-error:0.24549\tvalidation-error:0.25022\n",
      "[186]\ttrain-error:0.24533\tvalidation-error:0.25008\n",
      "[187]\ttrain-error:0.24526\tvalidation-error:0.25005\n",
      "[188]\ttrain-error:0.24519\tvalidation-error:0.24999\n",
      "[189]\ttrain-error:0.24512\tvalidation-error:0.24994\n",
      "[190]\ttrain-error:0.24501\tvalidation-error:0.24978\n",
      "[191]\ttrain-error:0.24496\tvalidation-error:0.24973\n",
      "[192]\ttrain-error:0.24484\tvalidation-error:0.24969\n",
      "[193]\ttrain-error:0.24481\tvalidation-error:0.24970\n",
      "[194]\ttrain-error:0.24479\tvalidation-error:0.24970\n",
      "[195]\ttrain-error:0.24475\tvalidation-error:0.24968\n",
      "[196]\ttrain-error:0.24472\tvalidation-error:0.24968\n",
      "[197]\ttrain-error:0.24470\tvalidation-error:0.24966\n",
      "[198]\ttrain-error:0.24464\tvalidation-error:0.24953\n",
      "[199]\ttrain-error:0.24459\tvalidation-error:0.24958\n",
      "[200]\ttrain-error:0.24449\tvalidation-error:0.24951\n",
      "[201]\ttrain-error:0.24441\tvalidation-error:0.24947\n",
      "[202]\ttrain-error:0.24437\tvalidation-error:0.24938\n",
      "[203]\ttrain-error:0.24427\tvalidation-error:0.24936\n",
      "[204]\ttrain-error:0.24422\tvalidation-error:0.24938\n",
      "[205]\ttrain-error:0.24418\tvalidation-error:0.24935\n",
      "[206]\ttrain-error:0.24411\tvalidation-error:0.24935\n",
      "[207]\ttrain-error:0.24406\tvalidation-error:0.24938\n",
      "[208]\ttrain-error:0.24398\tvalidation-error:0.24926\n",
      "[209]\ttrain-error:0.24392\tvalidation-error:0.24925\n",
      "[210]\ttrain-error:0.24387\tvalidation-error:0.24926\n",
      "[211]\ttrain-error:0.24377\tvalidation-error:0.24919\n",
      "[212]\ttrain-error:0.24373\tvalidation-error:0.24920\n",
      "[213]\ttrain-error:0.24372\tvalidation-error:0.24913\n",
      "[214]\ttrain-error:0.24362\tvalidation-error:0.24906\n",
      "[215]\ttrain-error:0.24354\tvalidation-error:0.24896\n",
      "[216]\ttrain-error:0.24346\tvalidation-error:0.24886\n",
      "[217]\ttrain-error:0.24337\tvalidation-error:0.24885\n",
      "[218]\ttrain-error:0.24330\tvalidation-error:0.24875\n",
      "[219]\ttrain-error:0.24328\tvalidation-error:0.24879\n",
      "[220]\ttrain-error:0.24317\tvalidation-error:0.24876\n",
      "[221]\ttrain-error:0.24313\tvalidation-error:0.24873\n",
      "[222]\ttrain-error:0.24306\tvalidation-error:0.24869\n",
      "[223]\ttrain-error:0.24301\tvalidation-error:0.24869\n",
      "[224]\ttrain-error:0.24297\tvalidation-error:0.24871\n",
      "[225]\ttrain-error:0.24291\tvalidation-error:0.24865\n",
      "[226]\ttrain-error:0.24285\tvalidation-error:0.24855\n",
      "[227]\ttrain-error:0.24278\tvalidation-error:0.24851\n",
      "[228]\ttrain-error:0.24272\tvalidation-error:0.24851\n",
      "[229]\ttrain-error:0.24269\tvalidation-error:0.24850\n",
      "[230]\ttrain-error:0.24260\tvalidation-error:0.24838\n",
      "[231]\ttrain-error:0.24256\tvalidation-error:0.24844\n",
      "[232]\ttrain-error:0.24247\tvalidation-error:0.24838\n",
      "[233]\ttrain-error:0.24246\tvalidation-error:0.24837\n",
      "[234]\ttrain-error:0.24237\tvalidation-error:0.24831\n",
      "[235]\ttrain-error:0.24231\tvalidation-error:0.24823\n",
      "[236]\ttrain-error:0.24227\tvalidation-error:0.24822\n",
      "[237]\ttrain-error:0.24220\tvalidation-error:0.24812\n",
      "[238]\ttrain-error:0.24217\tvalidation-error:0.24814\n",
      "[239]\ttrain-error:0.24211\tvalidation-error:0.24818\n",
      "[240]\ttrain-error:0.24208\tvalidation-error:0.24815\n",
      "[241]\ttrain-error:0.24205\tvalidation-error:0.24812\n",
      "[242]\ttrain-error:0.24198\tvalidation-error:0.24813\n",
      "[243]\ttrain-error:0.24191\tvalidation-error:0.24804\n",
      "[244]\ttrain-error:0.24187\tvalidation-error:0.24801\n",
      "[245]\ttrain-error:0.24179\tvalidation-error:0.24804\n",
      "[246]\ttrain-error:0.24172\tvalidation-error:0.24796\n",
      "[247]\ttrain-error:0.24167\tvalidation-error:0.24790\n",
      "[248]\ttrain-error:0.24160\tvalidation-error:0.24787\n",
      "[249]\ttrain-error:0.24156\tvalidation-error:0.24784\n",
      "[250]\ttrain-error:0.24154\tvalidation-error:0.24779\n",
      "[251]\ttrain-error:0.24148\tvalidation-error:0.24776\n",
      "[252]\ttrain-error:0.24144\tvalidation-error:0.24774\n",
      "[253]\ttrain-error:0.24136\tvalidation-error:0.24769\n",
      "[254]\ttrain-error:0.24131\tvalidation-error:0.24761\n",
      "[255]\ttrain-error:0.24126\tvalidation-error:0.24764\n",
      "[256]\ttrain-error:0.24118\tvalidation-error:0.24759\n",
      "[257]\ttrain-error:0.24118\tvalidation-error:0.24751\n",
      "[258]\ttrain-error:0.24113\tvalidation-error:0.24750\n",
      "[259]\ttrain-error:0.24111\tvalidation-error:0.24754\n",
      "[260]\ttrain-error:0.24109\tvalidation-error:0.24751\n",
      "[261]\ttrain-error:0.24106\tvalidation-error:0.24750\n",
      "[262]\ttrain-error:0.24100\tvalidation-error:0.24744\n",
      "[263]\ttrain-error:0.24097\tvalidation-error:0.24744\n",
      "[264]\ttrain-error:0.24090\tvalidation-error:0.24750\n",
      "[265]\ttrain-error:0.24088\tvalidation-error:0.24745\n",
      "[266]\ttrain-error:0.24081\tvalidation-error:0.24744\n",
      "[267]\ttrain-error:0.24077\tvalidation-error:0.24733\n",
      "[268]\ttrain-error:0.24074\tvalidation-error:0.24733\n",
      "[269]\ttrain-error:0.24070\tvalidation-error:0.24729\n",
      "[270]\ttrain-error:0.24068\tvalidation-error:0.24730\n",
      "[271]\ttrain-error:0.24065\tvalidation-error:0.24725\n",
      "[272]\ttrain-error:0.24061\tvalidation-error:0.24723\n",
      "[273]\ttrain-error:0.24058\tvalidation-error:0.24721\n",
      "[274]\ttrain-error:0.24051\tvalidation-error:0.24723\n",
      "[275]\ttrain-error:0.24047\tvalidation-error:0.24717\n",
      "[276]\ttrain-error:0.24042\tvalidation-error:0.24712\n",
      "[277]\ttrain-error:0.24040\tvalidation-error:0.24715\n",
      "[278]\ttrain-error:0.24037\tvalidation-error:0.24715\n",
      "[279]\ttrain-error:0.24034\tvalidation-error:0.24714\n",
      "[280]\ttrain-error:0.24025\tvalidation-error:0.24705\n",
      "[281]\ttrain-error:0.24020\tvalidation-error:0.24703\n",
      "[282]\ttrain-error:0.24016\tvalidation-error:0.24702\n",
      "[283]\ttrain-error:0.24008\tvalidation-error:0.24695\n",
      "[284]\ttrain-error:0.24003\tvalidation-error:0.24694\n",
      "[285]\ttrain-error:0.24002\tvalidation-error:0.24695\n",
      "[286]\ttrain-error:0.23996\tvalidation-error:0.24692\n",
      "[287]\ttrain-error:0.23991\tvalidation-error:0.24691\n",
      "[288]\ttrain-error:0.23989\tvalidation-error:0.24689\n",
      "[289]\ttrain-error:0.23984\tvalidation-error:0.24688\n",
      "[290]\ttrain-error:0.23979\tvalidation-error:0.24685\n",
      "[291]\ttrain-error:0.23977\tvalidation-error:0.24687\n",
      "[292]\ttrain-error:0.23975\tvalidation-error:0.24683\n",
      "[293]\ttrain-error:0.23970\tvalidation-error:0.24681\n",
      "[294]\ttrain-error:0.23967\tvalidation-error:0.24680\n",
      "[295]\ttrain-error:0.23962\tvalidation-error:0.24679\n",
      "[296]\ttrain-error:0.23960\tvalidation-error:0.24677\n",
      "[297]\ttrain-error:0.23956\tvalidation-error:0.24673\n",
      "[298]\ttrain-error:0.23953\tvalidation-error:0.24673\n",
      "[299]\ttrain-error:0.23948\tvalidation-error:0.24669\n",
      "[300]\ttrain-error:0.23946\tvalidation-error:0.24668\n",
      "[301]\ttrain-error:0.23945\tvalidation-error:0.24665\n",
      "[302]\ttrain-error:0.23940\tvalidation-error:0.24662\n",
      "[303]\ttrain-error:0.23938\tvalidation-error:0.24663\n",
      "[304]\ttrain-error:0.23931\tvalidation-error:0.24662\n",
      "[305]\ttrain-error:0.23925\tvalidation-error:0.24660\n",
      "[306]\ttrain-error:0.23921\tvalidation-error:0.24658\n",
      "[307]\ttrain-error:0.23915\tvalidation-error:0.24655\n",
      "[308]\ttrain-error:0.23910\tvalidation-error:0.24650\n",
      "[309]\ttrain-error:0.23909\tvalidation-error:0.24650\n",
      "[310]\ttrain-error:0.23901\tvalidation-error:0.24653\n",
      "[311]\ttrain-error:0.23898\tvalidation-error:0.24649\n",
      "[312]\ttrain-error:0.23894\tvalidation-error:0.24649\n",
      "[313]\ttrain-error:0.23891\tvalidation-error:0.24647\n",
      "[314]\ttrain-error:0.23889\tvalidation-error:0.24644\n",
      "[315]\ttrain-error:0.23883\tvalidation-error:0.24645\n",
      "[316]\ttrain-error:0.23877\tvalidation-error:0.24638\n",
      "[317]\ttrain-error:0.23875\tvalidation-error:0.24640\n",
      "[318]\ttrain-error:0.23872\tvalidation-error:0.24639\n",
      "[319]\ttrain-error:0.23864\tvalidation-error:0.24639\n",
      "[320]\ttrain-error:0.23861\tvalidation-error:0.24637\n",
      "[321]\ttrain-error:0.23858\tvalidation-error:0.24629\n",
      "[322]\ttrain-error:0.23855\tvalidation-error:0.24629\n",
      "[323]\ttrain-error:0.23851\tvalidation-error:0.24621\n"
     ]
    },
    {
     "name": "stdout",
     "output_type": "stream",
     "text": [
      "[324]\ttrain-error:0.23848\tvalidation-error:0.24624\n",
      "[325]\ttrain-error:0.23844\tvalidation-error:0.24622\n",
      "[326]\ttrain-error:0.23837\tvalidation-error:0.24620\n",
      "[327]\ttrain-error:0.23830\tvalidation-error:0.24621\n",
      "[328]\ttrain-error:0.23826\tvalidation-error:0.24622\n",
      "[329]\ttrain-error:0.23822\tvalidation-error:0.24623\n",
      "[330]\ttrain-error:0.23817\tvalidation-error:0.24621\n",
      "[331]\ttrain-error:0.23817\tvalidation-error:0.24618\n",
      "[332]\ttrain-error:0.23811\tvalidation-error:0.24617\n",
      "[333]\ttrain-error:0.23805\tvalidation-error:0.24609\n",
      "[334]\ttrain-error:0.23802\tvalidation-error:0.24609\n",
      "[335]\ttrain-error:0.23795\tvalidation-error:0.24608\n",
      "[336]\ttrain-error:0.23791\tvalidation-error:0.24609\n",
      "[337]\ttrain-error:0.23788\tvalidation-error:0.24603\n",
      "[338]\ttrain-error:0.23784\tvalidation-error:0.24605\n",
      "[339]\ttrain-error:0.23782\tvalidation-error:0.24602\n",
      "[340]\ttrain-error:0.23780\tvalidation-error:0.24600\n",
      "[341]\ttrain-error:0.23773\tvalidation-error:0.24603\n",
      "[342]\ttrain-error:0.23770\tvalidation-error:0.24597\n",
      "[343]\ttrain-error:0.23769\tvalidation-error:0.24595\n",
      "[344]\ttrain-error:0.23761\tvalidation-error:0.24594\n",
      "[345]\ttrain-error:0.23760\tvalidation-error:0.24594\n",
      "[346]\ttrain-error:0.23756\tvalidation-error:0.24591\n",
      "[347]\ttrain-error:0.23753\tvalidation-error:0.24588\n",
      "[348]\ttrain-error:0.23751\tvalidation-error:0.24588\n",
      "[349]\ttrain-error:0.23746\tvalidation-error:0.24589\n",
      "[350]\ttrain-error:0.23743\tvalidation-error:0.24589\n",
      "[351]\ttrain-error:0.23737\tvalidation-error:0.24590\n",
      "[352]\ttrain-error:0.23735\tvalidation-error:0.24588\n",
      "[353]\ttrain-error:0.23733\tvalidation-error:0.24587\n",
      "[354]\ttrain-error:0.23728\tvalidation-error:0.24578\n",
      "[355]\ttrain-error:0.23723\tvalidation-error:0.24575\n",
      "[356]\ttrain-error:0.23717\tvalidation-error:0.24572\n",
      "[357]\ttrain-error:0.23714\tvalidation-error:0.24572\n",
      "[358]\ttrain-error:0.23708\tvalidation-error:0.24567\n",
      "[359]\ttrain-error:0.23702\tvalidation-error:0.24563\n",
      "[360]\ttrain-error:0.23696\tvalidation-error:0.24567\n",
      "[361]\ttrain-error:0.23692\tvalidation-error:0.24568\n",
      "[362]\ttrain-error:0.23690\tvalidation-error:0.24565\n",
      "[363]\ttrain-error:0.23686\tvalidation-error:0.24562\n",
      "[364]\ttrain-error:0.23682\tvalidation-error:0.24564\n",
      "[365]\ttrain-error:0.23679\tvalidation-error:0.24563\n",
      "[366]\ttrain-error:0.23674\tvalidation-error:0.24560\n",
      "[367]\ttrain-error:0.23670\tvalidation-error:0.24554\n",
      "[368]\ttrain-error:0.23668\tvalidation-error:0.24555\n",
      "[369]\ttrain-error:0.23665\tvalidation-error:0.24554\n",
      "[370]\ttrain-error:0.23660\tvalidation-error:0.24560\n",
      "[371]\ttrain-error:0.23657\tvalidation-error:0.24554\n",
      "[372]\ttrain-error:0.23652\tvalidation-error:0.24548\n",
      "[373]\ttrain-error:0.23650\tvalidation-error:0.24550\n",
      "[374]\ttrain-error:0.23648\tvalidation-error:0.24550\n",
      "[375]\ttrain-error:0.23647\tvalidation-error:0.24552\n",
      "[376]\ttrain-error:0.23644\tvalidation-error:0.24550\n",
      "[377]\ttrain-error:0.23642\tvalidation-error:0.24551\n",
      "[378]\ttrain-error:0.23636\tvalidation-error:0.24550\n",
      "[379]\ttrain-error:0.23635\tvalidation-error:0.24552\n",
      "[380]\ttrain-error:0.23626\tvalidation-error:0.24547\n",
      "[381]\ttrain-error:0.23622\tvalidation-error:0.24547\n",
      "[382]\ttrain-error:0.23617\tvalidation-error:0.24546\n",
      "[383]\ttrain-error:0.23613\tvalidation-error:0.24544\n",
      "XGBoost score train:  0.7639, test:  0.7546\n"
     ]
    }
   ],
   "source": [
    "# XGBoost\n",
    "dtrain = xgb.DMatrix(\n",
    "        X_train_std,\n",
    "        y_train    )\n",
    "\n",
    "dtest = xgb.DMatrix(\n",
    "        X_test_std,\n",
    "        y_test    )\n",
    "\n",
    "## Train the model\n",
    "trained_model = xgb.train(\n",
    "                        {\n",
    "                          'learning_rate': 0.75,\n",
    "                          'max_depth': 6,\n",
    "                          'objective': 'binary:logistic',\n",
    "                          #'silent': True,\n",
    "                          #'verbose_eval': True,\n",
    "                          'tree_method':'gpu_hist',\n",
    "                          'eval_metric' :['error'],\n",
    "                        },\n",
    "                        dtrain,\n",
    "                        num_boost_round=384, evals=[(dtrain, 'train'), (dtest, 'validation')])\n",
    "\n",
    "pred_train = trained_model.predict(dtrain) > 0.5\n",
    "pred_test = trained_model.predict(dtest) > 0.5\n",
    "print('XGBoost score train: {0:7.4f}, test: {1:7.4f}'.format(cuml.metrics.accuracy_score(y_train, pred_train),\n",
    "                                                             cuml.metrics.accuracy_score(y_test, pred_test)))"
   ]
  }
 ],
 "metadata": {
  "kernelspec": {
   "display_name": "Python 3 (ipykernel)",
   "language": "python",
   "name": "python3"
  },
  "language_info": {
   "codemirror_mode": {
    "name": "ipython",
    "version": 3
   },
   "file_extension": ".py",
   "mimetype": "text/x-python",
   "name": "python",
   "nbconvert_exporter": "python",
   "pygments_lexer": "ipython3",
   "version": "3.8.10"
  }
 },
 "nbformat": 4,
 "nbformat_minor": 2
}
