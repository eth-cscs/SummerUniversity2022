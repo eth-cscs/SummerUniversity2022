{
 "cells": [
  {
   "cell_type": "markdown",
   "metadata": {
    "slideshow": {
     "slide_type": "slide"
    }
   },
   "source": [
    "# The JupyterLab Interface\n",
    "\n",
    "_Tim Robinson, CSCS_\n",
    "\n",
    "**JupyterLab** provides building blocks for **interactive, exploratory computing**.\n",
    "\n",
    "Used mainly - but not exclusively - for Python code.\n",
    "\n",
    "JupyterLab is the next generation interface for the Jupyter Notebook.\n",
    "\n",
    "The JupyterLab interface has three main components:\n",
    "- **Main work area** with tabs of documents and activities\n",
    "- **Collapsible left sidebar**\n",
    "- **Menu bar**\n"
   ]
  },
  {
   "cell_type": "markdown",
   "metadata": {
    "slideshow": {
     "slide_type": "slide"
    }
   },
   "source": [
    "## Main work area\n",
    "Arrange documents (notebooks, text files) and activities (terminals, consoles) into panels that can be resized or subdivided.\n",
    "\n",
    "The active tab is marked with a thin blue top border."
   ]
  },
  {
   "cell_type": "markdown",
   "metadata": {},
   "source": [
    "## Left sidebar\n",
    "Contains commonly used tabs:\n",
    "- File browser\n",
    "- List of running terminals and kernels\n",
    "- System Dashboards (GPU Dashboard)\n",
    "- Dask Dashboard \n",
    "- IPython Parallel\n",
    "- Notebook cell tools inspector\n",
    "- Table of contents\n",
    "- Extension manager\n",
    "\n",
    "JupyterLab is extensible, so you might see other tabs depending on the platform you are using."
   ]
  },
  {
   "cell_type": "markdown",
   "metadata": {
    "slideshow": {
     "slide_type": "fragment"
    }
   },
   "source": [
    "## Menu bar\n",
    "The top level menus expose actions along with their keyboard shortcuts.\n",
    "- File: actions related to files and directory\n",
    "- Edit: actions related to editing documents \n",
    "- View: actions to alter the appearance of JupyterLab\n",
    "- Run: actions for running code in notebooks and consoles\n",
    "- Kernel: actions for managing kernels (processes for running code)\n",
    "- Tabs: List of open documents / activities\n",
    "- Settings: common setting and advanced settings editor\n",
    "- Help: List of links for help on JupyterLab and kernels "
   ]
  },
  {
   "cell_type": "markdown",
   "metadata": {},
   "source": [
    "## Workspaces\n",
    "JupyterLab sessions reside in a **workspace**. The workspace holds information on the files that are open, and the layout of the activities, tabs etc. If you refresh the page the workspace is restored.\n",
    "\n",
    "The default workspace does not have a name. It resides at the primary `/lab` URL.\n",
    "\n",
    "If you open JupyterLab in another browser tab it will create a clone of the workspace with a new URL. You cannot have the same workspace open in multiple browser tabs (or different browsers)."
   ]
  },
  {
   "cell_type": "markdown",
   "metadata": {},
   "source": [
    "## Tabs and Simple Interface Modes\n",
    "If your workspace becomes crowded you can focus on a single document without closing all tabs in the main work area. Simple Interface (similar to former \"Single-Document Mode\") is found in the View menu."
   ]
  },
  {
   "cell_type": "markdown",
   "metadata": {},
   "source": [
    "## Working with files\n",
    "### Opening files\n",
    "- Double-click on the filename,\n",
    "or\n",
    "- Right-click to open with..., or\n",
    "- Drag it across to the main work area\n",
    "\n",
    "Single files can be opened simultaneously in multiple editors or viewers."
   ]
  },
  {
   "cell_type": "markdown",
   "metadata": {},
   "source": [
    "### Accessing the scratch filesystem on Piz Daint\n",
    "\n",
    "The file system can be navigated by double-clicking on the folder names in the File Browser. \n",
    "<div class=\"alert alert-block alert-info\">\n",
    "<b>Note:</b> You can not go up the directory tree from \\$HOME (/users/username), so to access \\$SCRATCH (/scratch/snx3000/username) you must create a symbolic link.\n",
    "</div>"
   ]
  },
  {
   "cell_type": "markdown",
   "metadata": {},
   "source": [
    "If you haven't already done so last week, create a symbolic link to your scratch folder. "
   ]
  },
  {
   "cell_type": "code",
   "execution_count": null,
   "metadata": {},
   "outputs": [],
   "source": [
    "!ln -s $SCRATCH $HOME/scratch"
   ]
  },
  {
   "cell_type": "markdown",
   "metadata": {},
   "source": [
    "The scratch folder will appear automatically in the file browser after a few seconds."
   ]
  },
  {
   "cell_type": "markdown",
   "metadata": {},
   "source": [
    "### Downloading your work at the end of the course\n",
    "After this course you can create a gzipped tar file of all your work by issuing the following command (change `$SCRATCH` to something else, depending on where your files are!) : \n"
   ]
  },
  {
   "cell_type": "code",
   "execution_count": null,
   "metadata": {},
   "outputs": [],
   "source": [
    "! tar chvfz ss_2022_notebooks.tar.gz ${SCRATCH}/SummerUniversity2022/*"
   ]
  },
  {
   "cell_type": "markdown",
   "metadata": {},
   "source": [
    "### Creating new files\n",
    "- Click the `+` button to bring up the Launcher, or\n",
    "- File -> New\n",
    "\n",
    "Rename the file by right-clicking on its name in the file browser and selecting Rename, or right-clicking on its tab header.\n",
    "### Downloading individual files to your local machine\n",
    "Right-click the file name in the file browser and select Download."
   ]
  },
  {
   "cell_type": "markdown",
   "metadata": {},
   "source": [
    "# Working with Notebooks"
   ]
  },
  {
   "cell_type": "markdown",
   "metadata": {},
   "source": [
    "## First, what is a notebook?"
   ]
  },
  {
   "cell_type": "code",
   "execution_count": null,
   "metadata": {},
   "outputs": [],
   "source": [
    "!head -n 15 01-jupyterlab-interface.ipynb | pygmentize -l json"
   ]
  },
  {
   "cell_type": "markdown",
   "metadata": {},
   "source": [
    "## Modes\n",
    "There are two \"modes\" in Jupyter: \n",
    "- **command** mode \n",
    "- **edit** mode\n",
    "\n",
    "`Esc` puts you in command mode, where you can add or delete cells. etc.\n",
    "\n",
    "`Enter` puts you into edit mode, where you can edit the cells. \n",
    "\n",
    "Regardless of the mode, `Shift Enter` runs the current cell and focus changes to the next cell.  "
   ]
  },
  {
   "cell_type": "markdown",
   "metadata": {},
   "source": [
    "# Markdown\n",
    "## Subheading\n",
    "### Subsubheading...\n",
    "\n",
    "$y = x^2$ - Math/LaTeX is handled automatically.\n",
    "\n",
    "Here is some _italic_ or *italic*. \n",
    "\n",
    "Here is **bold** or __bold__. \n",
    "\n",
    "Can __*also*__ be nested!\n",
    "\n",
    "\n",
    "Make an ordered list:\n",
    "1. first list item\n",
    "2. second item in my ordered list\n",
    "\n",
    "Unordered list:\n",
    "* like a bullet list\n",
    "* bullet 2\n",
    " \n",
    "        And you might want to show something unformatted"
   ]
  },
  {
   "cell_type": "code",
   "execution_count": null,
   "metadata": {},
   "outputs": [],
   "source": [
    "from IPython.display import IFrame\n",
    "IFrame('https://www.cscs.ch/events/upcoming-events/event-detail/summer-university-2022-on-effective-high-performance-computing-and-data-analytics/', 800, 400)"
   ]
  },
  {
   "cell_type": "code",
   "execution_count": null,
   "metadata": {},
   "outputs": [],
   "source": [
    "from IPython.display import YouTubeVideo\n",
    "\n",
    "YouTubeVideo('https://youtu.be/XnvwV_S7wa8?list=PL1tk5lGm7zvRl216eYQ_NyXlNBGtgachH', width=800, height=600)"
   ]
  },
  {
   "cell_type": "markdown",
   "metadata": {},
   "source": [
    "## Cell input and output\n",
    "By default the output from the last line evaluated is printed to the screen."
   ]
  },
  {
   "cell_type": "code",
   "execution_count": null,
   "metadata": {},
   "outputs": [],
   "source": [
    "1 + 5"
   ]
  },
  {
   "cell_type": "code",
   "execution_count": null,
   "metadata": {},
   "outputs": [],
   "source": [
    "1+2"
   ]
  },
  {
   "cell_type": "code",
   "execution_count": null,
   "metadata": {},
   "outputs": [],
   "source": [
    "1+1\n",
    "2+2\n",
    "#print(1+1)\n",
    "#print(2+2)"
   ]
  },
  {
   "cell_type": "markdown",
   "metadata": {},
   "source": [
    "You can refer to output of previous cell with `_`"
   ]
  },
  {
   "cell_type": "code",
   "execution_count": null,
   "metadata": {},
   "outputs": [],
   "source": [
    "_+2"
   ]
  },
  {
   "cell_type": "markdown",
   "metadata": {},
   "source": [
    "Likewise for `_N` and `Out[N]`"
   ]
  },
  {
   "cell_type": "code",
   "execution_count": null,
   "metadata": {},
   "outputs": [],
   "source": [
    "_4+2"
   ]
  },
  {
   "cell_type": "code",
   "execution_count": null,
   "metadata": {},
   "outputs": [],
   "source": [
    "import numpy as np\n",
    "np.random.random([4,4])"
   ]
  },
  {
   "cell_type": "code",
   "execution_count": null,
   "metadata": {},
   "outputs": [],
   "source": [
    "a = _"
   ]
  },
  {
   "cell_type": "markdown",
   "metadata": {},
   "source": [
    "A rich history is available with the `%history` magic. Documentation with `%history?`\n"
   ]
  },
  {
   "cell_type": "code",
   "execution_count": null,
   "metadata": {
    "scrolled": true
   },
   "outputs": [],
   "source": [
    "%history -n "
   ]
  },
  {
   "cell_type": "markdown",
   "metadata": {},
   "source": [
    "You can suppress storage and rendering of output with `;` (useful for large results like figures or pandas dataframes)."
   ]
  },
  {
   "cell_type": "code",
   "execution_count": null,
   "metadata": {},
   "outputs": [],
   "source": [
    "1+2;"
   ]
  },
  {
   "cell_type": "markdown",
   "metadata": {},
   "source": [
    "## Out of order execution \n",
    "\n",
    "Cells can be run in arbitrary order! Stylistically, it's good practise to make notebooks executable from top to bottom, though.\n",
    "\n",
    "A cell is given a number after it is executed."
   ]
  },
  {
   "cell_type": "code",
   "execution_count": null,
   "metadata": {},
   "outputs": [],
   "source": [
    "name = \"Tim\""
   ]
  },
  {
   "cell_type": "code",
   "execution_count": null,
   "metadata": {},
   "outputs": [],
   "source": [
    "name = \"Ben\""
   ]
  },
  {
   "cell_type": "code",
   "execution_count": null,
   "metadata": {},
   "outputs": [],
   "source": [
    "name"
   ]
  },
  {
   "cell_type": "markdown",
   "metadata": {},
   "source": [
    "## Introspection\n",
    "You can look at variables that are in the current namespace with `%who`. More details with `%whos`."
   ]
  },
  {
   "cell_type": "code",
   "execution_count": null,
   "metadata": {},
   "outputs": [],
   "source": [
    "%who"
   ]
  },
  {
   "cell_type": "code",
   "execution_count": null,
   "metadata": {},
   "outputs": [],
   "source": [
    "%whos"
   ]
  },
  {
   "cell_type": "markdown",
   "metadata": {
    "tags": []
   },
   "source": [
    "## JupyterLab specific features\n",
    "There are some things you can do with JupyterLab that you can't do with the Classic Notebook.\n",
    "- Drag and drop cells within a notebook to rearrange the notebook\n",
    "- Multiple views of a single notebook\n",
    "- Drag cells between notebooks to copy content\n",
    "- Collapse and expand code and output (blue collapser button on left of each cell)\n",
    "- Enable scrolling for long outputs (right click on a cell and select \"Enable Scrolling for Outputs\")\n",
    "- Create a new synchronized view of a cell's output (useful for making simple dashboards)\n",
    "<div class=\"alert alert-block alert-info\">\n",
    "<b>Example:</b> lorenz.ipynb\n",
    "</div>\n",
    "- Improved tab completion"
   ]
  },
  {
   "cell_type": "markdown",
   "metadata": {},
   "source": [
    "## Tab completion \n",
    "Tab completion is useful to explore the structure of objects. Type `object_name.<TAB>` to view the objects attributes. Tab completion works for Python objects and keywords and also file and directory names."
   ]
  },
  {
   "cell_type": "code",
   "execution_count": null,
   "metadata": {
    "tags": []
   },
   "outputs": [],
   "source": [
    "import numpy as np"
   ]
  },
  {
   "cell_type": "code",
   "execution_count": null,
   "metadata": {},
   "outputs": [],
   "source": [
    "np.ra"
   ]
  },
  {
   "cell_type": "markdown",
   "metadata": {},
   "source": [
    "## Terminals\n",
    "\n",
    "JupyterLab terminals provide support for system shells on Mac/Linux and PowerShell on Windows. The terminal runs where the Jupyter server is running, i.e. the compute node.  \n",
    "\n",
    "Closing a terminal with X will leave it running! You can reopen it with the Running Terminals and Kernels tab on the Sidebar. \n",
    "\n",
    "### Copy and paste from terminal\n",
    "\n",
    "- For MacOS `Cmd C` and `Cmd V` should work\n",
    "- For Windows Powershell `Ctrl Insert` and `Shift Insert` should work\n",
    "- For non MacOS, `Ctrl C` (if text is selected) and `Ctrl V` should work"
   ]
  },
  {
   "cell_type": "markdown",
   "metadata": {},
   "source": [
    "## Command Palette\n",
    "All actions are processed through a centralised command system. The command palette in the left sidebar provides a keyboard-driven way to search for and run JupyterLab commands. \n",
    "\n",
    "It is accessed with `Command/Ctrl Shift C`"
   ]
  },
  {
   "cell_type": "markdown",
   "metadata": {},
   "source": [
    "## Creating New Views and Connecting to Code Console\n",
    "You can connect a text file to a code console and kernel, so you can run code interactively from the text file. \n",
    "\n",
    "Right-click on a document and select \"Create Console for Editor\".\n",
    "\n",
    "You can run single lines of code or select blocks of code and hit `Shift Enter`\n",
    "\n",
    "In a markdown file `Shift Enter` will automatically detect if you are in a code section and run the entire block.\n",
    "\n",
    "<div class=\"alert alert-block alert-info\">\n",
    "<b>Example:</b> python_hpc_markdown.md\n",
    "</div>"
   ]
  },
  {
   "cell_type": "markdown",
   "metadata": {},
   "source": [
    "## IPython Magics\n",
    "\n",
    "Magics are special built-in commands that begin with percentages signs `%`.\n",
    "- line magics (`%`): the arguments are all on one line \n",
    "- cell magics (`%%`): the entire cell are the arguments to the command  "
   ]
  },
  {
   "cell_type": "code",
   "execution_count": null,
   "metadata": {},
   "outputs": [],
   "source": [
    "%lsmagic #list available magics"
   ]
  },
  {
   "cell_type": "markdown",
   "metadata": {},
   "source": [
    "### Magics for timing code snippets\n",
    "Use `%time`, `%timeit`, `%%time`, and `%%timeit` magics to benchmark snippets of your code."
   ]
  },
  {
   "cell_type": "code",
   "execution_count": null,
   "metadata": {},
   "outputs": [],
   "source": [
    "# A function to simulate a million dice throws.\n",
    "import numpy as np\n",
    "from numpy.random import randint\n",
    "def one_million_dice():\n",
    "    return randint(low=1, high=7, size=1_000_000)"
   ]
  },
  {
   "cell_type": "code",
   "execution_count": null,
   "metadata": {},
   "outputs": [],
   "source": [
    "%time throws = one_million_dice()\n",
    "%time mean = np.mean(throws)\n",
    "mean"
   ]
  },
  {
   "cell_type": "code",
   "execution_count": null,
   "metadata": {},
   "outputs": [],
   "source": [
    "%timeit throws = one_million_dice()\n",
    "%timeit mean = np.mean(throws)"
   ]
  },
  {
   "cell_type": "code",
   "execution_count": null,
   "metadata": {},
   "outputs": [],
   "source": [
    "%%timeit\n",
    "throws = one_million_dice()\n",
    "mean = np.mean(throws)"
   ]
  },
  {
   "cell_type": "markdown",
   "metadata": {},
   "source": [
    "### Writing files\n",
    "Write the contents of the cell to a file with the `%%writefile` cell magic.\n",
    "\n",
    "The file will be overwritten unless the -a (–append) flag is specified."
   ]
  },
  {
   "cell_type": "code",
   "execution_count": null,
   "metadata": {},
   "outputs": [],
   "source": [
    "%%writefile python_hpc_snippet.py\n",
    "\n",
    "def some_code():\n",
    "    print('Writing a file with writefile')\n",
    "    return 'Value'\n",
    "\n",
    "some_code()"
   ]
  },
  {
   "cell_type": "markdown",
   "metadata": {},
   "source": [
    "### Printing files\n",
    "Examine the contents of a file with the `%pycat` line magic. Similar to the cat utility, but will show Python syntax highlighting."
   ]
  },
  {
   "cell_type": "code",
   "execution_count": null,
   "metadata": {},
   "outputs": [],
   "source": [
    "%pycat python_hpc_snippet.py"
   ]
  },
  {
   "cell_type": "markdown",
   "metadata": {},
   "source": [
    "### Loading files \n",
    "The `%load` line magic will replace the contents of the cell with an external script. Run a second time to execute. "
   ]
  },
  {
   "cell_type": "code",
   "execution_count": null,
   "metadata": {},
   "outputs": [],
   "source": [
    "# %load python_hpc_snippet.py\n",
    "\n",
    "def some_code():\n",
    "    print('Writing a file with writefile')\n",
    "    return 'Value'\n",
    "\n",
    "some_code()\n"
   ]
  },
  {
   "cell_type": "markdown",
   "metadata": {},
   "source": [
    "### Execute a file directly from the notebook\n",
    "Run a Python script or notebook with **%run** magic "
   ]
  },
  {
   "cell_type": "code",
   "execution_count": null,
   "metadata": {},
   "outputs": [],
   "source": [
    "%run python_hpc_snippet.py"
   ]
  },
  {
   "cell_type": "markdown",
   "metadata": {},
   "source": [
    "## Matplotlib \n",
    "\n",
    "`%matplotlib inline` magic command allows matplotlib charts to be displayed directly in the notebook. "
   ]
  },
  {
   "cell_type": "code",
   "execution_count": null,
   "metadata": {},
   "outputs": [],
   "source": [
    "%matplotlib inline"
   ]
  },
  {
   "cell_type": "code",
   "execution_count": null,
   "metadata": {},
   "outputs": [],
   "source": [
    "\"\"\"\n",
    "Simple demo to produce a sin curve     \n",
    "\"\"\"\n",
    "import numpy as np\n",
    "import matplotlib.pyplot as plt\n",
    "\n",
    "t = np.arange(0.0, 2.0, 0.01)\n",
    "s = 1 + np.sin(2*np.pi*t)\n",
    "plt.plot(t, s)\n",
    "\n",
    "plt.xlabel('time (s)')\n",
    "plt.ylabel('voltage (mV)')\n",
    "plt.title('Summer Uni JupyterLab demo')\n",
    "plt.grid(True)\n",
    "plt.show()"
   ]
  },
  {
   "cell_type": "markdown",
   "metadata": {},
   "source": [
    "## Shell commands\n",
    "\n",
    "Earlier we saw that you can run shell commands with `!`. "
   ]
  },
  {
   "cell_type": "code",
   "execution_count": null,
   "metadata": {},
   "outputs": [],
   "source": [
    "! echo \"hello summer uni\""
   ]
  },
  {
   "cell_type": "markdown",
   "metadata": {},
   "source": [
    "You can also capture the output:"
   ]
  },
  {
   "cell_type": "code",
   "execution_count": null,
   "metadata": {},
   "outputs": [],
   "source": [
    "notebooks = !ls *.ipynb\n",
    "notebooks"
   ]
  },
  {
   "cell_type": "markdown",
   "metadata": {},
   "source": [
    "Common linux shell commands are also available as magics, including `%ls`, `%mkdir`, `%cd`, `%pwd`, `%cp`, `%mv`"
   ]
  },
  {
   "cell_type": "markdown",
   "metadata": {},
   "source": [
    "## Other languages in the same notebook"
   ]
  },
  {
   "cell_type": "code",
   "execution_count": null,
   "metadata": {},
   "outputs": [],
   "source": [
    "%%bash\n",
    "for i in {1..5}\n",
    "do\n",
    "   echo \"i is $i\"\n",
    "done"
   ]
  },
  {
   "cell_type": "code",
   "execution_count": null,
   "metadata": {},
   "outputs": [],
   "source": [
    "%%perl\n",
    "@days = (\"Monday\", \"Tuesday\", \"Wednesday\");\n",
    "print $days[0];"
   ]
  },
  {
   "cell_type": "code",
   "execution_count": null,
   "metadata": {},
   "outputs": [],
   "source": [
    "%%python2\n",
    "alpha = 23 \n",
    "print \"look folks, no brackets!\"\n",
    "print alpha"
   ]
  },
  {
   "cell_type": "code",
   "execution_count": null,
   "metadata": {},
   "outputs": [],
   "source": [
    "#note that the namespace is different though\n",
    "print(alpha)"
   ]
  },
  {
   "cell_type": "markdown",
   "metadata": {},
   "source": [
    "## IPython pasted from a terminal"
   ]
  },
  {
   "cell_type": "code",
   "execution_count": null,
   "metadata": {},
   "outputs": [],
   "source": [
    "# paste some text from the ipython interpreter"
   ]
  },
  {
   "cell_type": "markdown",
   "metadata": {},
   "source": [
    "## Interupting the kernel\n",
    "Notebooks are executed cell by cell. \n",
    "\n",
    "The cell that is actively computing is marked with an asterisk `*`\n",
    "\n",
    "While a code cell is executing, no other cells can execute. \n",
    "\n",
    "`II` to interupt kernel.\n",
    "\n",
    "(also ``00`` to restart kernel)"
   ]
  },
  {
   "cell_type": "code",
   "execution_count": null,
   "metadata": {},
   "outputs": [],
   "source": [
    "# how to escape from a cell stuck for a while?"
   ]
  },
  {
   "cell_type": "markdown",
   "metadata": {},
   "source": [
    "## Interactivity with IPython widgets\n",
    "\n",
    "Interactivity is one of the most powerful reasons for using notebooks.\n",
    "\n",
    "Widgets allow you to visualize and control changes in data, parameters etc.\n",
    "\n",
    "`ipywidgets` gives us access to sliders, text boxes, toggles and so on. "
   ]
  },
  {
   "cell_type": "code",
   "execution_count": null,
   "metadata": {},
   "outputs": [],
   "source": [
    "import ipywidgets \n",
    "int_range_slider = ipywidgets.IntSlider()\n",
    "display(int_range_slider)"
   ]
  },
  {
   "cell_type": "code",
   "execution_count": null,
   "metadata": {},
   "outputs": [],
   "source": [
    "int_range_slider.value"
   ]
  },
  {
   "cell_type": "code",
   "execution_count": null,
   "metadata": {},
   "outputs": [],
   "source": [
    "toggler=ipywidgets.ToggleButtons(options=['On', 'Off'])\n",
    "display(toggler)"
   ]
  },
  {
   "cell_type": "code",
   "execution_count": null,
   "metadata": {},
   "outputs": [],
   "source": [
    "toggler.value"
   ]
  },
  {
   "cell_type": "code",
   "execution_count": null,
   "metadata": {},
   "outputs": [],
   "source": [
    "# You can use interact as a function \n",
    "from ipywidgets import interact\n",
    "\n",
    "def f(x, y, s):\n",
    "    return (x, y, s)\n",
    "\n",
    "interact(f, x=True, y=1.0, s=\"Hi all\");\n"
   ]
  },
  {
   "cell_type": "code",
   "execution_count": null,
   "metadata": {},
   "outputs": [],
   "source": [
    "# You can use interact as a decorator\n",
    "@interact(x=True, y=1.0, s=\"Hi all\")\n",
    "def g(x, y, s):\n",
    "    return (x, y, s)\n"
   ]
  },
  {
   "cell_type": "code",
   "execution_count": null,
   "metadata": {},
   "outputs": [],
   "source": [
    "# calculate pi by \"throwing darts\"  \n",
    "import random\n",
    "from ipywidgets import interact, widgets\n",
    "\n",
    "%matplotlib inline\n",
    "from matplotlib import pyplot\n",
    "\n",
    "\n",
    "def throw_darts(num_points):\n",
    "    points = []\n",
    "    hits = 0\n",
    "    for _ in range(num_points):\n",
    "        x, y = random.random(), random.random()\n",
    "        if x*x + y*y < 1.0:\n",
    "            hits += 1\n",
    "            points.append((x, y, True))\n",
    "        else:\n",
    "            points.append((x, y, False))\n",
    "    fraction = hits / num_points\n",
    "    pi = 4 * fraction\n",
    "    return pi, points\n",
    "\n",
    "\n",
    "def create_plot(points):\n",
    "    x, y, colors = zip(*points)\n",
    "    pyplot.scatter(x, y, c=colors)\n",
    "\n",
    "\n",
    "def experiment(num_points):\n",
    "    pi, points = throw_darts(num_points)\n",
    "    create_plot(points)\n",
    "    print(\"approximation:\", pi)\n",
    "\n",
    "interact(experiment, num_points=widgets.IntSlider(min=100, max=10000, step=100, value=1000))"
   ]
  },
  {
   "cell_type": "markdown",
   "metadata": {},
   "source": [
    "## Connect to a running kernel \n",
    "You can connect to the same kernel running in another notebook to share a namespace!"
   ]
  },
  {
   "cell_type": "markdown",
   "metadata": {},
   "source": [
    "## Troubleshooting on Piz Daint!\n",
    "<div class=\"alert alert-block alert-info\">\n",
    "<b>Note:</b> On Piz Daint a jupyterhub log file is written to $SCRATCH/jupyterhub_slurmspawner_jobid.log\n",
    "</div>\n",
    "This should be your first port of call if your notebook is not launching or has stopped working. Otherwise:\n",
    "\n",
    "- Check your Slurm job hasn't expired\n",
    "- Try restarting kernel (or stopping other ones, esp. if they are using the GPU)\n"
   ]
  },
  {
   "cell_type": "markdown",
   "metadata": {},
   "source": [
    "## How to Get Help\n",
    "### Help menu\n",
    "Inside the Help menu you’ll find handy links to the online documentation for common libraries including NumPy, SciPy, pandas, and Matplotlib."
   ]
  },
  {
   "cell_type": "markdown",
   "metadata": {},
   "source": [
    "### Question mark operator \n",
    "Global help from question mark itself: "
   ]
  },
  {
   "cell_type": "code",
   "execution_count": null,
   "metadata": {},
   "outputs": [],
   "source": [
    "?"
   ]
  },
  {
   "cell_type": "markdown",
   "metadata": {},
   "source": [
    "Typing `object_name?` will print details about objects including docstrings, function definitions..."
   ]
  },
  {
   "cell_type": "code",
   "execution_count": null,
   "metadata": {},
   "outputs": [],
   "source": [
    "import numpy as np\n",
    "np?"
   ]
  },
  {
   "cell_type": "markdown",
   "metadata": {},
   "source": [
    "### While you are typing...\n",
    "`Shift Tab` will show you the Docstring for the the object you have just typed in a code cell."
   ]
  },
  {
   "cell_type": "code",
   "execution_count": null,
   "metadata": {},
   "outputs": [],
   "source": [
    "np."
   ]
  },
  {
   "cell_type": "markdown",
   "metadata": {},
   "source": [
    "### Wildcards\n",
    "If you remember that there was a function but you can't remember the exact name, you can use question mark and it will look through your namespace to find something that matches. "
   ]
  },
  {
   "cell_type": "code",
   "execution_count": null,
   "metadata": {},
   "outputs": [],
   "source": [
    "mint = \"hello\"\n",
    "*int*?"
   ]
  },
  {
   "cell_type": "markdown",
   "metadata": {},
   "source": [
    "### Quickref"
   ]
  },
  {
   "cell_type": "code",
   "execution_count": null,
   "metadata": {
    "scrolled": true,
    "tags": []
   },
   "outputs": [],
   "source": [
    "%quickref"
   ]
  },
  {
   "cell_type": "markdown",
   "metadata": {},
   "source": [
    "## Keyboard shortcuts\n",
    "\n",
    "`Esc` puts you in command mode, where you can navigate around your notebook with arrow keys.\n",
    "    \n",
    "While in command mode:\n",
    "        \n",
    "`A` to insert a new cell above the current cell \n",
    "\n",
    "`B` to insert a new cell below.\n",
    "\n",
    "`M` to change the current cell to Markdown \n",
    "\n",
    "`Y` to change the current cell to code\n",
    "\n",
    "`DD`  (press the key twice) to delete the current cell\n",
    "\n",
    "`Z` to undo cell deletion\n",
    "\n",
    "`Enter` will take you into edit mode for the given cell.\n",
    "\n",
    "While in edit mode:\n",
    "\n",
    "`Ctrl Shift -` will split the current cell into two from where your cursor is.    \n",
    "\n",
    "`Shift Enter` runs the current cell and focus changes to next cell\n",
    "\n",
    "`Ctrl Enter` runs the current cell without advancing\n",
    "\n",
    "`Option Enter` runs the current cell and inserts a new cell below \n",
    "\n",
    "`Ctrl Z` undo \n",
    "\n",
    "`Ctrl Y` redo\n",
    "\n",
    "Other:\n",
    "\n",
    "`II` (double i) Interrupts the kernel\n",
    "\n",
    "`00` (double zero) Restarts the kernel\n",
    "\n",
    "`Command Shift C` brings you to the Command Palette, from where you can search for  commands."
   ]
  },
  {
   "cell_type": "code",
   "execution_count": null,
   "metadata": {},
   "outputs": [],
   "source": []
  }
 ],
 "metadata": {
  "kernelspec": {
   "display_name": "CSCS Python",
   "language": "python",
   "name": "cscs"
  },
  "language_info": {
   "codemirror_mode": {
    "name": "ipython",
    "version": 3
   },
   "file_extension": ".py",
   "mimetype": "text/x-python",
   "name": "python",
   "nbconvert_exporter": "python",
   "pygments_lexer": "ipython3",
   "version": "3.9.4"
  }
 },
 "nbformat": 4,
 "nbformat_minor": 4
}
