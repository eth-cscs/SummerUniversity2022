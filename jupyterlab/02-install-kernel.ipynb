{
 "cells": [
  {
   "cell_type": "markdown",
   "metadata": {
    "slideshow": {
     "slide_type": "slide"
    }
   },
   "source": [
    "# Installing Custom Python Kernels \n",
    "\n",
    "_Tim Robinson, CSCS_\n",
    "\n",
    "A Jupyter notebook is attached to a **kernel**, which runs the code. \n",
    "\n",
    "Two Python 3 kernels are provided by default: `CSCS Python` and `Python 3`.  \n",
    "\n",
    "Here we will **install two custom kernels** that load **conda environments** created specifically for this Summer Univesity. They will include packages like `numba` (a JIT compiler for numerical functions in Python), `cupy` (numpy-like API for NVIDIA GPUs) and `TensorFlow`.  \n",
    "\n",
    "JupyterLab looks for user-installed kernels in `$HOME/.local/share/jupyter/kernels/`. \n",
    "\n",
    "<div class=\"alert alert-block alert-info\">\n",
    "<b>Hot Tip:</b> If you find that you can't import tensorflow, for example, please check you are using the correct kernel (check the top right of the workspace, or the extreme bottom left).\n",
    "</div>\n",
    "\n",
    "We will install our new kernels by runnings scripts from this notebook. These scripts write the `kernel.json` and a `launcher` file which is called by it. `kernel.json` is a JSON serialised dictionary containing the following key/values:\n",
    "- `argv`: list of command line arguments used to start the kernel. The text `{connection_file}` in any argument will be replaced with the path to the connection file (this specifies how to set up communications with the frontend).\n",
    "- `display_name`: The kernel’s name in the user interface. \n",
    "- `language`: The name of the language of the kernel. "
   ]
  },
  {
   "cell_type": "markdown",
   "metadata": {},
   "source": [
    "### Python kernel with cupy, numba etc for today"
   ]
  },
  {
   "cell_type": "markdown",
   "metadata": {
    "slideshow": {
     "slide_type": "slide"
    }
   },
   "source": [
    "Run the following script using the `!` operator:"
   ]
  },
  {
   "cell_type": "code",
   "execution_count": null,
   "metadata": {
    "slideshow": {
     "slide_type": "fragment"
    }
   },
   "outputs": [],
   "source": [
    "! /scratch/snx3000/class350/make-hpcpython2022-kernel.py"
   ]
  },
  {
   "cell_type": "markdown",
   "metadata": {},
   "source": [
    "You should see new files in $HOME/.local/share/jupyter/kernels/"
   ]
  },
  {
   "cell_type": "code",
   "execution_count": null,
   "metadata": {},
   "outputs": [],
   "source": [
    "! ls -altr $HOME/.local/share/jupyter/kernels/hpcpython2022"
   ]
  },
  {
   "cell_type": "code",
   "execution_count": null,
   "metadata": {},
   "outputs": [],
   "source": [
    "! cat $HOME/.local/share/jupyter/kernels/hpcpython2022/kernel.json"
   ]
  },
  {
   "cell_type": "code",
   "execution_count": null,
   "metadata": {},
   "outputs": [],
   "source": [
    "! cat $HOME/.local/share/jupyter/kernels/hpcpython2022/launcher"
   ]
  },
  {
   "cell_type": "markdown",
   "metadata": {},
   "source": [
    "\n",
    "If you would like to activate the conda environment automatically when you start a Terminal from JupyterLab, UNCOMMENT and run the following cell:\n",
    "    "
   ]
  },
  {
   "cell_type": "code",
   "execution_count": null,
   "metadata": {},
   "outputs": [],
   "source": [
    "#! echo \". /apps/daint/UES/6.0.UP04/sandboxes/sarafael/hpcpython2022/bin/activate\" >> ~/.bashrc"
   ]
  },
  {
   "cell_type": "markdown",
   "metadata": {
    "tags": []
   },
   "source": [
    "## Before switching to new kernel\n",
    "\n",
    "**Before** switching to the new kernel:\n",
    "\n",
    "<div class=\"alert alert-warning alert-block alert-info\"><b>Exercise:</b> What version of numpy is provided in the default CSCS Python kernel? </div>\n",
    "<div class=\"alert alert-warning alert-block alert-info\"><b>Exercise:</b> And what is the location of numpy?</div>\n",
    "<div class=\"alert alert-warning alert-block alert-info\"><b>Exercise:</b> Confirm CuPy is not available</div>"
   ]
  },
  {
   "cell_type": "markdown",
   "metadata": {
    "slideshow": {
     "slide_type": "slide"
    }
   },
   "source": [
    "## Now attach to the new kernel\n",
    "\n",
    "Attach this notebook to the kernel you have just created. You can do this in a number of different ways:\n",
    "- Via the Main Menu (Kernel -> Change Kernel -> \"hpcpython2022\")\n",
    "- By clicking on \"Python 3\" at the top right of the notebook tab -> \"hpcpython2022\"\n",
    "- By clicking on \"Python 3\" on the JupyterLab bottom toolbar and selecting \"hpcpython2022\"\n",
    "- By searching for \"Change Kernel\" in the Command Palette...\n",
    "\n",
    "The new kernel will also be available when creating new notebooks via the Launcher.\n"
   ]
  },
  {
   "cell_type": "markdown",
   "metadata": {
    "slideshow": {
     "slide_type": "slide"
    }
   },
   "source": [
    "<div class=\"alert alert-warning alert-block alert-info\"><b>Exercise:</b> Verify you have switched kernel and you can execute code - What version of numpy is provided in the new kernel? And where is it located?</div>"
   ]
  },
  {
   "cell_type": "markdown",
   "metadata": {},
   "source": [
    "<div class=\"alert alert-warning alert-block alert-info\"><b>Exercise:</b> Check you can import cupy</div>"
   ]
  },
  {
   "cell_type": "markdown",
   "metadata": {},
   "source": [
    "<div class=\"alert alert-warning alert-block alert-info\"><b>Exercise:</b> Determine what computational resources are available on the node using Numba (!numba -s). Do the resources match what you expect from last week?\n",
    "\n",
    "- How many CPU sockets, how many cores? What architecture...?\n",
    "- Does it find the correct GPU device type, architecture...? </div>"
   ]
  },
  {
   "cell_type": "markdown",
   "metadata": {},
   "source": [
    "### TensorFlow kernel for later in the week"
   ]
  },
  {
   "cell_type": "markdown",
   "metadata": {},
   "source": [
    "Run the following script to give us a kernel with Tensorflow and friends. We'll use it later in the week."
   ]
  },
  {
   "cell_type": "code",
   "execution_count": null,
   "metadata": {},
   "outputs": [],
   "source": [
    "! /scratch/snx3000/class350/make-tfsu2022-kernel.py"
   ]
  },
  {
   "cell_type": "markdown",
   "metadata": {},
   "source": [
    "Switch to the kernel and check that you can import tensorflow."
   ]
  },
  {
   "cell_type": "markdown",
   "metadata": {},
   "source": [
    "Now switch back to the hpcpython2022 kernel."
   ]
  },
  {
   "cell_type": "markdown",
   "metadata": {},
   "source": [
    "## GPU dashboards\n",
    "NVdashboard is a JupyterLab extension for doing real-time visualization of NVIDIA GPU metrics in JupyterLab. \n",
    "\n",
    "It’s useful for quickly verifying that the GPU is actually being used, for checking memory usage etc.\n",
    "\n",
    "You can fnd the dashboards on the left side bar (immediately above the orange Dask Dashboard icon)  "
   ]
  },
  {
   "cell_type": "code",
   "execution_count": null,
   "metadata": {},
   "outputs": [],
   "source": [
    "import numpy as np\n",
    "import cupy as cp"
   ]
  },
  {
   "cell_type": "code",
   "execution_count": null,
   "metadata": {},
   "outputs": [],
   "source": [
    "x_gpu = cp.array([1, 2, 3])"
   ]
  },
  {
   "cell_type": "code",
   "execution_count": null,
   "metadata": {},
   "outputs": [],
   "source": [
    "y_cpu = np.array([1, 2, 3])"
   ]
  },
  {
   "cell_type": "code",
   "execution_count": null,
   "metadata": {},
   "outputs": [],
   "source": [
    "!~/mmcublas"
   ]
  }
 ],
 "metadata": {
  "kernelspec": {
   "display_name": "CSCS Python",
   "language": "python",
   "name": "cscs"
  },
  "language_info": {
   "codemirror_mode": {
    "name": "ipython",
    "version": 3
   },
   "file_extension": ".py",
   "mimetype": "text/x-python",
   "name": "python",
   "nbconvert_exporter": "python",
   "pygments_lexer": "ipython3",
   "version": "3.9.4"
  }
 },
 "nbformat": 4,
 "nbformat_minor": 4
}
