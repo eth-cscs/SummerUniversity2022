{
 "cells": [
  {
   "cell_type": "markdown",
   "metadata": {
    "slideshow": {
     "slide_type": "slide"
    }
   },
   "source": [
    "# Installing Custom Python Kernels \n",
    "\n",
    "_Tim Robinson, CSCS_\n",
    "\n",
    "A Jupyter notebook is attached to a **kernel**, which runs the code. \n",
    "\n",
    "Two Python 3 kernels are provided by default: `CSCS Python` and `Python 3`.  \n",
    "\n",
    "Here we will **install two custom kernels** that load **conda environments** created specifically for this Summer Univesity. They will include pacakges like `numba` (a JIT compiler for numerical functions in Python), `cupy` (numpy-like API for NVIDIA GPUs) and `TensorFlow`.  \n",
    "\n",
    "JupyterLab looks for user-installed kernels in `$HOME/.local/share/jupyter/kernels/`. \n",
    "\n",
    "<div class=\"alert alert-block alert-info\">\n",
    "<b>Hot Tip:</b> If you find that you can't import tensorflow, for example, please check you are using the correct kernel (check the top right of the workspace, or the extreme bottom left).\n",
    "</div>\n",
    "\n",
    "We will install our new kernels by runnings scripts from this notebook. These scripts write the `kernel.json` and a `launcher` file which is called by it. `kernel.json` is a JSON serialised dictionary containing the following key/values:\n",
    "- `argv`: list of command line arguments used to start the kernel. The text `{connection_file}` in any argument will be replaced with the path to the connection file (this specifies how to set up communications with the frontend).\n",
    "- `display_name`: The kernel’s name in the user interface. \n",
    "- `language`: The name of the language of the kernel. "
   ]
  },
  {
   "cell_type": "markdown",
   "metadata": {},
   "source": [
    "### Python kernel with cupy, numba etc for today"
   ]
  },
  {
   "cell_type": "markdown",
   "metadata": {
    "slideshow": {
     "slide_type": "slide"
    }
   },
   "source": [
    "Run the following script using the `!` operator:"
   ]
  },
  {
   "cell_type": "code",
   "execution_count": 1,
   "metadata": {
    "slideshow": {
     "slide_type": "fragment"
    }
   },
   "outputs": [],
   "source": [
    "! /scratch/snx3000/class350/make-hpcpython2022-kernel.py"
   ]
  },
  {
   "cell_type": "markdown",
   "metadata": {},
   "source": [
    "You should see new files in $HOME/.local/share/jupyter/kernels/"
   ]
  },
  {
   "cell_type": "code",
   "execution_count": 4,
   "metadata": {},
   "outputs": [
    {
     "name": "stdout",
     "output_type": "stream",
     "text": [
      "total 3\n",
      "drwxr-xr-x 3 robinson csstaff 4096 Jul 17 13:26 ..\n",
      "-rw-r--r-- 1 robinson csstaff  175 Jul 17 13:26 kernel.json\n",
      "drwxr-xr-x 2 robinson csstaff 4096 Jul 17 13:26 .\n",
      "-rwxr--r-- 1 robinson csstaff  366 Jul 17 13:26 launcher\n"
     ]
    }
   ],
   "source": [
    "! ls -altr $HOME/.local/share/jupyter/kernels/hpcpython2022"
   ]
  },
  {
   "cell_type": "code",
   "execution_count": 5,
   "metadata": {},
   "outputs": [
    {
     "name": "stdout",
     "output_type": "stream",
     "text": [
      "{\n",
      " \"display_name\": \"hpcpython2022\",\n",
      " \"language\": \"python\",\n",
      " \"argv\": [\n",
      " \"/users/robinson/.local/share/jupyter/kernels/hpcpython2022/launcher\",\n",
      " \"-f\",\n",
      " \"{connection_file}\"\n",
      " ]\n",
      "}\n"
     ]
    }
   ],
   "source": [
    "! cat $HOME/.local/share/jupyter/kernels/hpcpython2022/kernel.json"
   ]
  },
  {
   "cell_type": "code",
   "execution_count": 6,
   "metadata": {},
   "outputs": [
    {
     "name": "stdout",
     "output_type": "stream",
     "text": [
      "#!/usr/bin/env bash\n",
      "\n",
      "export PYTHONPATH=''\n",
      "if [ \"$SOURCE_JUPYTERHUBENV\" == true ]; then\n",
      "    source $HOME/.jupyterhub.env\n",
      "fi\n",
      "\n",
      "export OMP_NUM_THREADS=12\n",
      "module switch cudatoolkit cudatoolkit/21.5_11.3\n",
      "\n",
      ". /apps/daint/UES/6.0.UP04/sandboxes/sarafael/hpcpython2022/bin/activate\n",
      "/apps/daint/UES/6.0.UP04/sandboxes/sarafael/hpcpython2022/bin/python -m ipykernel_launcher $@\n"
     ]
    }
   ],
   "source": [
    "! cat $HOME/.local/share/jupyter/kernels/hpcpython2022/launcher"
   ]
  },
  {
   "cell_type": "markdown",
   "metadata": {},
   "source": [
    "\n",
    "If you would like to activate the conda environment automatically when you start a Terminal from JupyterLab, UNCOMMENT and run the following cell:\n",
    "    "
   ]
  },
  {
   "cell_type": "code",
   "execution_count": 7,
   "metadata": {},
   "outputs": [],
   "source": [
    "#! echo \". /apps/daint/UES/6.0.UP04/sandboxes/sarafael/hpcpython2022/bin/activate\" >> ~/.bashrc"
   ]
  },
  {
   "cell_type": "markdown",
   "metadata": {
    "tags": []
   },
   "source": [
    "## Before switching to new kernel\n",
    "\n",
    "**Before** switching to the new kernel:\n",
    "\n",
    "<div class=\"alert alert-warning alert-block alert-info\"><b>Exercise:</b> What version of numpy is provided in the default Python 3 kernel? </div>\n",
    "<div class=\"alert alert-warning alert-block alert-info\"><b>Exercise:</b> And what is the location of numpy?</div>\n",
    "<div class=\"alert alert-warning alert-block alert-info\"><b>Exercise:</b> Confirm CuPy is not there</div>"
   ]
  },
  {
   "cell_type": "markdown",
   "metadata": {
    "slideshow": {
     "slide_type": "slide"
    }
   },
   "source": [
    "## Now attach to the new kernel\n",
    "\n",
    "Attach this notebook to the kernel you have just created. You can do this in a number of different ways:\n",
    "- Via the Main Menu (Kernel -> Change Kernel -> \"hpcpython2022\")\n",
    "- By clicking on \"Python 3\" at the top right of the notebook tab -> \"hpcpython2022\"\n",
    "- By clicking on \"Python 3\" on the JupyterLab bottom toolbar and selecting \"hpcpython2022\"\n",
    "- By searching for \"Change Kernel\" in the Command Palette...\n",
    "\n",
    "The new kernel will also be available when creating new notebooks via the Launcher.\n"
   ]
  },
  {
   "cell_type": "markdown",
   "metadata": {
    "slideshow": {
     "slide_type": "slide"
    }
   },
   "source": [
    "<div class=\"alert alert-warning alert-block alert-info\"><b>Exercise:</b> Verify you have switched kernel and you can execute code - What version of numpy is provided in the new kernel? And where is it located?</div>"
   ]
  },
  {
   "cell_type": "markdown",
   "metadata": {},
   "source": [
    "<div class=\"alert alert-warning alert-block alert-info\"><b>Exercise:</b> Check you can import cupy</div>"
   ]
  },
  {
   "cell_type": "code",
   "execution_count": 4,
   "metadata": {},
   "outputs": [
    {
     "name": "stdout",
     "output_type": "stream",
     "text": [
      "System info:\n",
      "--------------------------------------------------------------------------------\n",
      "__Time Stamp__\n",
      "Report started (local time)                   : 2022-07-17 13:40:58.467001\n",
      "UTC start time                                : 2022-07-17 11:40:58.467007\n",
      "Running time (s)                              : 1.506466\n",
      "\n",
      "__Hardware Information__\n",
      "Machine                                       : x86_64\n",
      "CPU Name                                      : haswell\n",
      "CPU Count                                     : 24\n",
      "Number of accessible CPUs                     : 24\n",
      "List of accessible CPUs cores                 : 0 1 2 3 4 5 6 7 8 9 10 11 12 13 14 15 16 17 18 19 20 21 22 23\n",
      "CFS Restrictions (CPUs worth of runtime)      : None\n",
      "\n",
      "CPU Features                                  : 64bit aes avx avx2 bmi bmi2 cmov\n",
      "                                                cx16 cx8 f16c fma fsgsbase fxsr\n",
      "                                                invpcid lzcnt mmx movbe pclmul\n",
      "                                                popcnt rdrnd sahf sse sse2 sse3\n",
      "                                                sse4.1 sse4.2 ssse3 xsave xsaveopt\n",
      "\n",
      "Memory Total (MB)                             : 64199\n",
      "Memory Available (MB)                         : 60216\n",
      "\n",
      "__OS Information__\n",
      "Platform Name                                 : Linux-5.3.18-24.46_6.0.29-cray_ari_c-x86_64-with-glibc2.26\n",
      "Platform Release                              : 5.3.18-24.46_6.0.29-cray_ari_c\n",
      "OS Name                                       : Linux\n",
      "OS Version                                    : #1 SMP Mon Mar 14 09:11:41 UTC 2022 (6c38a31)\n",
      "OS Specific Version                           : ?\n",
      "Libc Version                                  : glibc 2.26\n",
      "\n",
      "__Python Information__\n",
      "Python Compiler                               : GCC 8.1.0 20180502 (Cray Inc.)\n",
      "Python Implementation                         : CPython\n",
      "Python Version                                : 3.9.4\n",
      "Python Locale                                 : en_US.UTF-8\n",
      "\n",
      "__Numba Toolchain Versions__\n",
      "Numba Version                                 : 0.55.2\n",
      "llvmlite Version                              : 0.38.1\n",
      "\n",
      "__LLVM Information__\n",
      "LLVM Version                                  : 11.1.0\n",
      "\n",
      "__CUDA Information__\n",
      "CUDA Device Initialized                       : True\n",
      "CUDA Driver Version                           : (11, 4)\n",
      "CUDA Runtime Version                          : 11030\n",
      "CUDA NVIDIA Bindings Available                : False\n",
      "CUDA NVIDIA Bindings In Use                   : False\n",
      "CUDA Detect Output:\n",
      "Found 1 CUDA devices\n",
      "id 0    b'Tesla P100-PCIE-16GB'                              [SUPPORTED]\n",
      "                      Compute Capability: 6.0\n",
      "                           PCI Device ID: 0\n",
      "                              PCI Bus ID: 2\n",
      "                                    UUID: GPU-34f5f5d5-50bb-0336-c499-3656771e3ab4\n",
      "                                Watchdog: Disabled\n",
      "             FP32/FP64 Performance Ratio: 2\n",
      "Summary:\n",
      "\t1/1 devices are supported\n",
      "\n",
      "CUDA Libraries Test Output:\n",
      "Finding nvvm from CUDA_HOME\n",
      "\tnamed  libnvvm.so.4.0.0\n",
      "\ttrying to open library...\tok\n",
      "Finding cudart from CUDA_HOME\n",
      "\tnamed  libcudart.so.11.3.58\n",
      "\ttrying to open library...\tok\n",
      "Finding cudadevrt from CUDA_HOME\n",
      "\tnamed  libcudadevrt.a\n",
      "Finding libdevice from CUDA_HOME\n",
      "\tsearching for compute_20...\tok\n",
      "\tsearching for compute_30...\tok\n",
      "\tsearching for compute_35...\tok\n",
      "\tsearching for compute_50...\tok\n",
      "\n",
      "\n",
      "__NumPy Information__\n",
      "NumPy Version                                 : 1.22.4\n",
      "NumPy Supported SIMD features                 : ('MMX', 'SSE', 'SSE2', 'SSE3', 'SSSE3', 'SSE41', 'POPCNT', 'SSE42', 'AVX', 'F16C', 'FMA3', 'AVX2')\n",
      "NumPy Supported SIMD dispatch                 : ('SSSE3', 'SSE41', 'POPCNT', 'SSE42', 'AVX', 'F16C', 'FMA3', 'AVX2', 'AVX512F', 'AVX512CD', 'AVX512_KNL', 'AVX512_KNM', 'AVX512_SKX', 'AVX512_CLX', 'AVX512_CNL', 'AVX512_ICL')\n",
      "NumPy Supported SIMD baseline                 : ('SSE', 'SSE2', 'SSE3')\n",
      "NumPy AVX512_SKX support detected             : False\n",
      "\n",
      "__SVML Information__\n",
      "SVML State, config.USING_SVML                 : False\n",
      "SVML Library Loaded                           : False\n",
      "llvmlite Using SVML Patched LLVM              : True\n",
      "SVML Operational                              : False\n",
      "\n",
      "__Threading Layer Information__\n",
      "TBB Threading Layer Available                 : False\n",
      "+--> Disabled due to Unknown import problem.\n",
      "OpenMP Threading Layer Available              : True\n",
      "+-->Vendor: GNU\n",
      "Workqueue Threading Layer Available           : True\n",
      "+-->Workqueue imported successfully.\n",
      "\n",
      "__Numba Environment Variable Information__\n",
      "None found.\n",
      "\n",
      "__Conda Information__\n",
      "Conda not available.\n",
      "\n",
      "__Installed Packages__\n",
      "Package              Version\n",
      "-------------------- ------------\n",
      "aiohttp              3.8.1\n",
      "aiosignal            1.2.0\n",
      "anyio                3.6.1\n",
      "apex                 0.1\n",
      "argon2-cffi          21.3.0\n",
      "argon2-cffi-bindings 21.2.0\n",
      "asttokens            2.0.5\n",
      "async-timeout        4.0.2\n",
      "attrs                21.4.0\n",
      "backcall             0.2.0\n",
      "beautifulsoup4       4.11.1\n",
      "bleach               5.0.0\n",
      "bokeh                2.4.3\n",
      "certifi              2022.6.15\n",
      "cffi                 1.15.0\n",
      "charset-normalizer   2.0.12\n",
      "click                8.0.4\n",
      "cloudpickle          2.1.0\n",
      "commonmark           0.9.1\n",
      "cupy-cuda113         10.5.0\n",
      "cycler               0.11.0\n",
      "Cython               0.29.30\n",
      "dask                 2022.5.2\n",
      "dask-cuda            22.6.0\n",
      "datasets             2.3.2\n",
      "debugpy              1.6.0\n",
      "decorator            5.1.1\n",
      "deepspeed            0.6.5\n",
      "defusedxml           0.7.1\n",
      "dill                 0.3.5.1\n",
      "distributed          2022.5.2\n",
      "docopt               0.6.2\n",
      "entrypoints          0.4\n",
      "executing            0.8.3\n",
      "fastjsonschema       2.15.3\n",
      "fastrlock            0.8\n",
      "filelock             3.7.1\n",
      "fonttools            4.33.3\n",
      "frozenlist           1.3.0\n",
      "fsspec               2022.5.0\n",
      "graphviz             0.20\n",
      "h5py                 3.7.0\n",
      "HeapDict             1.0.1\n",
      "hjson                3.0.2\n",
      "huggingface-hub      0.8.1\n",
      "idna                 3.3\n",
      "ipcmagic-cscs        1.1.0\n",
      "ipykernel            6.13.1\n",
      "ipyparallel          8.3.0\n",
      "ipython              8.4.0\n",
      "jedi                 0.18.1\n",
      "Jinja2               3.1.2\n",
      "joblib               1.1.0\n",
      "jsonschema           4.6.0\n",
      "jupyter-client       7.3.3\n",
      "jupyter-core         4.10.0\n",
      "jupyter-server       1.17.1\n",
      "jupyter-server-proxy 3.2.1\n",
      "jupyterlab-pygments  0.2.2\n",
      "kiwisolver           1.4.2\n",
      "line-profiler        3.5.1\n",
      "llvmlite             0.38.1\n",
      "locket               1.0.0\n",
      "MarkupSafe           2.1.1\n",
      "matplotlib           3.5.2\n",
      "matplotlib-inline    0.1.3\n",
      "memory-profiler      0.60.0\n",
      "mistune              0.8.4\n",
      "mpi4py               3.1.3\n",
      "msgpack              1.0.4\n",
      "multidict            6.0.2\n",
      "multiprocess         0.70.13\n",
      "nbclient             0.6.4\n",
      "nbconvert            6.5.0\n",
      "nbformat             5.4.0\n",
      "nest-asyncio         1.5.5\n",
      "ninja                1.10.2.3\n",
      "nltk                 3.7\n",
      "numba                0.55.2\n",
      "numpy                1.22.4\n",
      "packaging            21.3\n",
      "pandas               1.4.2\n",
      "pandocfilters        1.5.0\n",
      "parso                0.8.3\n",
      "partd                1.2.0\n",
      "pexpect              4.8.0\n",
      "pickleshare          0.7.5\n",
      "Pillow               9.1.1\n",
      "pip                  22.1.2\n",
      "prometheus-client    0.14.1\n",
      "prompt-toolkit       3.0.29\n",
      "psutil               5.9.1\n",
      "ptyprocess           0.7.0\n",
      "pure-eval            0.2.2\n",
      "py-cpuinfo           8.0.0\n",
      "pyarrow              8.0.0\n",
      "pybind11             2.9.2\n",
      "pycodestyle          2.8.0\n",
      "pycparser            2.21\n",
      "Pygments             2.12.0\n",
      "pynvml               11.4.1\n",
      "pyparsing            3.0.9\n",
      "pyrsistent           0.18.1\n",
      "python-dateutil      2.8.2\n",
      "python-hostlist      1.21\n",
      "pytz                 2022.1\n",
      "PyYAML               6.0\n",
      "pyzmq                23.1.0\n",
      "regex                2022.6.2\n",
      "requests             2.28.1\n",
      "responses            0.18.0\n",
      "rich                 12.4.4\n",
      "scipy                1.8.1\n",
      "Send2Trash           1.8.0\n",
      "setuptools           49.2.1\n",
      "simpervisor          0.4\n",
      "six                  1.16.0\n",
      "snakeviz             2.1.1\n",
      "sniffio              1.2.0\n",
      "sortedcontainers     2.4.0\n",
      "soupsieve            2.3.2.post1\n",
      "stack-data           0.2.0\n",
      "tblib                1.7.0\n",
      "terminado            0.15.0\n",
      "tinycss2             1.1.1\n",
      "tokenizers           0.12.1\n",
      "toolz                0.11.2\n",
      "torch                1.12.0+cu113\n",
      "torchaudio           0.12.0+cu113\n",
      "torchvision          0.13.0+cu113\n",
      "tornado              6.1\n",
      "tqdm                 4.64.0\n",
      "traitlets            5.2.2.post1\n",
      "transformers         4.20.1\n",
      "typing_extensions    4.2.0\n",
      "urllib3              1.26.9\n",
      "wcwidth              0.2.5\n",
      "webencodings         0.5.1\n",
      "websocket-client     1.3.2\n",
      "xxhash               3.0.0\n",
      "yarl                 1.7.2\n",
      "zict                 2.2.0\n",
      "\n",
      "No errors reported.\n",
      "\n",
      "\n",
      "__Warning log__\n",
      "Warning: Conda not available.\n",
      " Error was [Errno 2] No such file or directory: 'conda'\n",
      "\n",
      "Warning (no file): /sys/fs/cgroup/cpuacct/cpu.cfs_quota_us\n",
      "Warning (no file): /sys/fs/cgroup/cpuacct/cpu.cfs_period_us\n",
      "--------------------------------------------------------------------------------\n",
      "If requested, please copy and paste the information between\n",
      "the dashed (----) lines, or from a given specific section as\n",
      "appropriate.\n",
      "\n",
      "=============================================================\n",
      "IMPORTANT: Please ensure that you are happy with sharing the\n",
      "contents of the information present, any information that you\n",
      "wish to keep private you should remove before sharing.\n",
      "=============================================================\n",
      "\n"
     ]
    }
   ],
   "source": [
    "!numba -s"
   ]
  },
  {
   "cell_type": "markdown",
   "metadata": {},
   "source": [
    "<div class=\"alert alert-warning alert-block alert-info\"><b>Exercise:</b> Determine what computational resources are available on the node using Numba (!numba -s). Do the resources match what you expect from last week?\n",
    "\n",
    "- How many CPU sockets, how many cores? What architecture...?\n",
    "- Does it find the correct GPU device type, architecture...? </div>"
   ]
  },
  {
   "cell_type": "markdown",
   "metadata": {},
   "source": [
    "### TensorFlow kernel for later in the week"
   ]
  },
  {
   "cell_type": "markdown",
   "metadata": {},
   "source": [
    "Run the following script to give us a kernel with Tensorflow and friends. We'll use it later in the week."
   ]
  },
  {
   "cell_type": "code",
   "execution_count": 3,
   "metadata": {},
   "outputs": [],
   "source": [
    "! /scratch/snx3000/class350/make-tfsu2022-kernel.py"
   ]
  },
  {
   "cell_type": "markdown",
   "metadata": {},
   "source": [
    "Switch to the kernel and check that you can import tensorflow."
   ]
  },
  {
   "cell_type": "markdown",
   "metadata": {},
   "source": [
    "Now switch back to the hpcpython2022 kernel."
   ]
  },
  {
   "cell_type": "markdown",
   "metadata": {},
   "source": [
    "## GPU dashboards\n",
    "NVdashboard is a JupyterLab extension for doing real-time visualization of NVIDIA GPU metrics in JupyterLab. \n",
    "\n",
    "It’s useful for quickly verifying that the GPU is actually being used, for checking memory usage etc.\n",
    "\n",
    "You can fnd the dashboards on the left side bar (immediately above the orange Dask Dashboard icon)  "
   ]
  },
  {
   "cell_type": "code",
   "execution_count": 5,
   "metadata": {},
   "outputs": [],
   "source": [
    "import numpy as np\n",
    "import cupy as cp"
   ]
  },
  {
   "cell_type": "code",
   "execution_count": 6,
   "metadata": {},
   "outputs": [],
   "source": [
    "x_gpu = cp.array([1, 2, 3])"
   ]
  },
  {
   "cell_type": "code",
   "execution_count": 7,
   "metadata": {},
   "outputs": [],
   "source": [
    "y_cpu = np.array([1, 2, 3])"
   ]
  },
  {
   "cell_type": "code",
   "execution_count": 2,
   "metadata": {},
   "outputs": [
    {
     "name": "stdout",
     "output_type": "stream",
     "text": [
      "[Matrix Multiply CUBLAS] - Starting...\n",
      "GPU Device 0: \"Tesla P100-PCIE-16GB\" with compute capability 6.0\n",
      "\n",
      "GPU Device 0: \"Tesla P100-PCIE-16GB\" with compute capability 6.0\n",
      "\n",
      "MatrixA(1280,960), MatrixB(960,640), MatrixC(1280,640)\n",
      "Computing result using CUBLAS...done.\n",
      "Performance= 6191.65 GFlop/s, Time= 0.254 msec, Size= 1572864000 Ops\n",
      "Computing result using host CPU...done.\n",
      "Comparing CUBLAS Matrix Multiply with CPU results: PASS\n",
      "\n",
      "NOTE: The CUDA Samples are not meant for performance measurements. Results may vary when GPU Boost is enabled.\n"
     ]
    }
   ],
   "source": [
    "!~/mmcublas"
   ]
  }
 ],
 "metadata": {
  "kernelspec": {
   "display_name": "hpcpython2022",
   "language": "python",
   "name": "hpcpython2022"
  },
  "language_info": {
   "codemirror_mode": {
    "name": "ipython",
    "version": 3
   },
   "file_extension": ".py",
   "mimetype": "text/x-python",
   "name": "python",
   "nbconvert_exporter": "python",
   "pygments_lexer": "ipython3",
   "version": "3.9.4"
  }
 },
 "nbformat": 4,
 "nbformat_minor": 4
}
