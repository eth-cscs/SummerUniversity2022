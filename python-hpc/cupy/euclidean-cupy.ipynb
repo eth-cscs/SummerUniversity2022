{
 "cells": [
  {
   "cell_type": "markdown",
   "metadata": {},
   "source": [
    "# Euclidean distance matrix with CuPy"
   ]
  },
  {
   "cell_type": "markdown",
   "metadata": {},
   "source": [
    "<p style=\"font-size:19px\"> CuPy is an open-source array library accelerated with NVIDIA CUDA. It provides GPU accelerated computing with Python</p>\n",
    "<table><tr>\n",
    "<td> <img src=https://raw.githubusercontent.com/cupy/cupy/master/docs/image/cupy_logo_1000px.png alt=\"Drawing\" style=\"width: 250px;\"> </td>\n",
    "<td> \n",
    "<ul style=\"font-size:18px\">\n",
    " <li> CuPy uses CUDA-related libraries including cuBLAS, cuDNN, cuRand, cuSolver, cuSPARSE, cuFFT and NCCL </li>\n",
    " <li> CuPy's interface is highly compatible with NumPy; in most cases it can be used as a drop-in replacement </li>\n",
    " <li> It compiles a kernel code optimized for the shapes and dtypes of given arguments, sends it to the GPU device, and executes the kernel </li>\n",
    "</ul>\n",
    "</td>\n",
    "</tr></table>"
   ]
  },
  {
   "cell_type": "code",
   "execution_count": null,
   "metadata": {},
   "outputs": [],
   "source": [
    "import numpy as np\n",
    "import cupy as cp"
   ]
  },
  {
   "cell_type": "code",
   "execution_count": null,
   "metadata": {},
   "outputs": [],
   "source": [
    "# for cuda kernels, %timeit might miss some operations and\n",
    "# give a time that's not correct. We implemented a \n",
    "# timer from cupy's utilities to time the cupy calls.\n",
    "from cupy_timer import timer"
   ]
  },
  {
   "cell_type": "code",
   "execution_count": null,
   "metadata": {},
   "outputs": [],
   "source": [
    "def euclidean_cp(x, y):\n",
    "    x2 = (x * x).sum(axis=1)[:, cp.newaxis]\n",
    "    y2 = (y * y).sum(axis=1)[cp.newaxis, :]\n",
    "\n",
    "    xy = x @ y.T\n",
    "\n",
    "    return cp.abs(x2 + y2 - 2. * xy)"
   ]
  },
  {
   "cell_type": "code",
   "execution_count": null,
   "metadata": {},
   "outputs": [],
   "source": [
    "def euclidean_np(x, y):\n",
    "    x2 = (x * x).sum(axis=1)[:, np.newaxis]\n",
    "    y2 = (y * y).sum(axis=1)[np.newaxis, :]\n",
    "\n",
    "    xy = x @ y.T\n",
    "\n",
    "    return np.abs(x2 + y2 - 2. * xy)"
   ]
  },
  {
   "cell_type": "code",
   "execution_count": null,
   "metadata": {},
   "outputs": [],
   "source": [
    "nsamples = 6000\n",
    "nfeat = 50\n",
    "\n",
    "x_np = np.random.random([nsamples, nfeat])"
   ]
  },
  {
   "cell_type": "code",
   "execution_count": null,
   "metadata": {},
   "outputs": [],
   "source": [
    "%timeit euclidean_np(x_np, x_np)"
   ]
  },
  {
   "cell_type": "code",
   "execution_count": null,
   "metadata": {},
   "outputs": [],
   "source": [
    "x_cp = cp.asarray(x_np)\n",
    "\n",
    "with timer():\n",
    "    euclidean_cp(x_cp, x_cp)"
   ]
  },
  {
   "cell_type": "markdown",
   "metadata": {},
   "source": [
    "Notice that the first time `euclidean_cp` is run is the slowest. This is because CuPy uses on-the-fly kernel synthesis: when a kernel call is required, it compiles a kernel code optimized for the shapes and dtypes of given arguments and sends it to the GPU. Those steps are not necessary when the function is executed again, since the compiled kernel is cached in memory and already sent to the device. More info [here](https://docs.cupy.dev/en/stable/overview.html)."
   ]
  },
  {
   "cell_type": "code",
   "execution_count": null,
   "metadata": {},
   "outputs": [],
   "source": [
    "# let's check that the result is the same\n",
    "edm_cp = euclidean_cp(x_cp, x_cp)\n",
    "edm_np = euclidean_np(x_np, x_np)\n",
    "\n",
    "np.abs(cp.asnumpy(edm_cp) - edm_np).max()"
   ]
  },
  {
   "cell_type": "markdown",
   "metadata": {},
   "source": [
    "## CPU/GPU agnostic code\n",
    "\n",
    "CuPy's `cp.get_array_module` can be used to know if an array comes from NumPy or from CuPy. With it, functions can be writting in a CPU/GPU-agnostic way!"
   ]
  },
  {
   "cell_type": "code",
   "execution_count": null,
   "metadata": {},
   "outputs": [],
   "source": [
    "xp = cp.get_array_module(x_cp)\n",
    "xp"
   ]
  },
  {
   "cell_type": "code",
   "execution_count": null,
   "metadata": {},
   "outputs": [],
   "source": [
    "xp = cp.get_array_module(x_np)\n",
    "xp"
   ]
  },
  {
   "cell_type": "markdown",
   "metadata": {},
   "source": [
    "Let's *merge* our functions `euclidean_cp` and `euclidean_np`  into a single one `euclidean`:"
   ]
  },
  {
   "cell_type": "code",
   "execution_count": null,
   "metadata": {},
   "outputs": [],
   "source": [
    "def euclidean(x, y):\n",
    "    xp = cp.get_array_module(x)\n",
    "    # verify that x and y are of arrays of the same kind\n",
    "    assert xp == cp.get_array_module(y)\n",
    "\n",
    "    x2 = (x * x).sum(axis=1)[:, xp.newaxis]\n",
    "    y2 = (y * y).sum(axis=1)[xp.newaxis, :]\n",
    "\n",
    "    xy = x @ y.T\n",
    "\n",
    "    return xp.abs(x2 + y2 - 2. * xy)"
   ]
  },
  {
   "cell_type": "code",
   "execution_count": null,
   "metadata": {},
   "outputs": [],
   "source": [
    "euclidean(x_cp, x_cp);  # returns a numpy array\n",
    "euclidean(x_np, x_np);  # returns a cupy"
   ]
  }
 ],
 "metadata": {
  "kernelspec": {
   "display_name": "hpcpython2022",
   "language": "python",
   "name": "hpcpython2022"
  },
  "language_info": {
   "codemirror_mode": {
    "name": "ipython",
    "version": 3
   },
   "file_extension": ".py",
   "mimetype": "text/x-python",
   "name": "python",
   "nbconvert_exporter": "python",
   "pygments_lexer": "ipython3",
   "version": "3.9.4"
  }
 },
 "nbformat": 4,
 "nbformat_minor": 4
}
